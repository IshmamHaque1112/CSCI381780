{
 "cells": [
  {
   "cell_type": "markdown",
   "id": "46c91f27",
   "metadata": {},
   "source": [
    "# CSCI 381/780 (Fall 2022) - Project 2\n",
    "\n",
    "**Due Date: Monday, November 14 by 4 PM**\n",
    "\n",
    "## Description\n",
    "In this project you will construct machine learning models on two different real-world datasets using unsupervised learning and regression.\n",
    "\n",
    "## Instructions\n",
    "1. In this project you will write code to construct machine learning models and write responses to questions concerning the performance of said models. Please complete all sections below, adding new *Code* or *Markdown* cells as appropriate to answer the questions.\n",
    "2. There are many Scikit-learn functions that leverage randomness to generate results. For these functions, a pseudorandom generator can be initialized using a seed value by passing the parameter `random_state=XXX`, where `XXX` is some number between 1 and 2^31-1. For each of these functions, **you will utilize your CUNY ID number** to initialize the function. Functions include:\n",
    "- `ShuffleSplit`\n",
    "- `KFold`\n",
    "- `KMeans`\n",
    "- `GridSearchCV`\n",
    "- `Lasso`\n",
    "- `MLPRegressor`\n",
    "3. You will **work independently** on the project. Please make use of the *Python Data Science Reference Materials* posted on Blackboard, or **come to office hours should you need further assistance**.\n",
    "4. You will submit a single Jupyter notebook containing all code and written responses via Blackboard by the due date listed above. \n",
    "\n",
    "## Grading\n",
    "\n",
    "### Running Code\n",
    "Your Jupyter notebook must be able to run from start to finish **without error**. Please turn any cell that contains scratch work or other non-executable items to *Raw*. **Notebooks that cannot run to completion will receive a grade of 0**.\n",
    "\n",
    "\n",
    "### Rubric\n",
    "\n",
    "|**Part**|1.1|1.2|2.1|2.2|2.3|2.4|2.5|2.6|**Total**|\n",
    "|:---:|:---:|:---:|:---:|:---:|:---:|:---:|:---:|:---:|:---:|\n",
    "|**%**|10|30|15|5|10|10|10|10|100|\n"
   ]
  },
  {
   "cell_type": "markdown",
   "id": "78c3272a",
   "metadata": {},
   "source": [
    "# Part 1: Clustering"
   ]
  },
  {
   "cell_type": "markdown",
   "id": "a550163a",
   "metadata": {},
   "source": [
    "In this part of the project, you will be using data collected by the US Geological Survey and the US Forest Service. The data describes various cartographic and geologic features related to forest cover in US wilderness areas, with each sample representing a 30 x 30 meter cell.\n",
    "\n",
    "The **goal** will be to *identify clusters* that represent forest cover types, and using these clusters *extract relationships* between forest covers and the provided cartographic/geologic features."
   ]
  },
  {
   "cell_type": "code",
   "execution_count": 1,
   "id": "3fcfa560",
   "metadata": {},
   "outputs": [
    {
     "data": {
      "text/plain": [
       "54"
      ]
     },
     "execution_count": 1,
     "metadata": {},
     "output_type": "execute_result"
    }
   ],
   "source": [
    "cover_column_names=[\"Elevation\",\"Aspect\",\"Slope\",\n",
    "              \"Horizontal_Distance_To_Hydrology\",\"Vertical_Distance_To_Hydrology\",\n",
    "              \"Horizontal_Distance_To_Roadways\",\"Hillshade_9am\",\"Hillshade_Noon\",\n",
    "              \"Hillshade_3pm\",\"Horizontal_Distance_To_Fire_Points\"]\n",
    "wilderness_cols =[\"Wilderness_\"+str(i) for i in range(4)]\n",
    "soil_col =[\"Soil_\"+str(i) for i in range(40)]\n",
    "cover_columns_names = cover_column_names + wilderness_cols + soil_col\n",
    "len(cover_columns_names)"
   ]
  },
  {
   "cell_type": "markdown",
   "id": "1f8124dc",
   "metadata": {},
   "source": [
    "## 1.1 Load Data\n",
    "Set the variable `COVER_FILE` to the **full path** to the forest cover dataset (**forest_cover_dataset.csv**) on your system. Load the file into a dataframe (you may initialize the column names using the header list `cover_column_names`), then:\n",
    "1. Determine the number and types of features.\n",
    "2. Perform a **ShuffleSplit** of the data into training/validation/test sets, 60%/20%/20%. \n",
    "3. **Center** the training/validation/test splits (fit on the training set, then transform the validation/test sets). "
   ]
  },
  {
   "cell_type": "code",
   "execution_count": 2,
   "id": "85de2683",
   "metadata": {},
   "outputs": [
    {
     "data": {
      "text/html": [
       "<div>\n",
       "<style scoped>\n",
       "    .dataframe tbody tr th:only-of-type {\n",
       "        vertical-align: middle;\n",
       "    }\n",
       "\n",
       "    .dataframe tbody tr th {\n",
       "        vertical-align: top;\n",
       "    }\n",
       "\n",
       "    .dataframe thead th {\n",
       "        text-align: right;\n",
       "    }\n",
       "</style>\n",
       "<table border=\"1\" class=\"dataframe\">\n",
       "  <thead>\n",
       "    <tr style=\"text-align: right;\">\n",
       "      <th></th>\n",
       "      <th>0</th>\n",
       "      <th>1</th>\n",
       "      <th>2</th>\n",
       "      <th>3</th>\n",
       "      <th>4</th>\n",
       "      <th>5</th>\n",
       "      <th>6</th>\n",
       "      <th>7</th>\n",
       "      <th>8</th>\n",
       "      <th>9</th>\n",
       "      <th>...</th>\n",
       "      <th>44</th>\n",
       "      <th>45</th>\n",
       "      <th>46</th>\n",
       "      <th>47</th>\n",
       "      <th>48</th>\n",
       "      <th>49</th>\n",
       "      <th>50</th>\n",
       "      <th>51</th>\n",
       "      <th>52</th>\n",
       "      <th>53</th>\n",
       "    </tr>\n",
       "  </thead>\n",
       "  <tbody>\n",
       "    <tr>\n",
       "      <th>0</th>\n",
       "      <td>2825</td>\n",
       "      <td>265</td>\n",
       "      <td>17</td>\n",
       "      <td>319</td>\n",
       "      <td>108</td>\n",
       "      <td>2298</td>\n",
       "      <td>174</td>\n",
       "      <td>245</td>\n",
       "      <td>209</td>\n",
       "      <td>342</td>\n",
       "      <td>...</td>\n",
       "      <td>0</td>\n",
       "      <td>0</td>\n",
       "      <td>1</td>\n",
       "      <td>0</td>\n",
       "      <td>0</td>\n",
       "      <td>0</td>\n",
       "      <td>0</td>\n",
       "      <td>0</td>\n",
       "      <td>0</td>\n",
       "      <td>0</td>\n",
       "    </tr>\n",
       "    <tr>\n",
       "      <th>1</th>\n",
       "      <td>2719</td>\n",
       "      <td>198</td>\n",
       "      <td>34</td>\n",
       "      <td>134</td>\n",
       "      <td>76</td>\n",
       "      <td>2352</td>\n",
       "      <td>187</td>\n",
       "      <td>245</td>\n",
       "      <td>167</td>\n",
       "      <td>693</td>\n",
       "      <td>...</td>\n",
       "      <td>0</td>\n",
       "      <td>0</td>\n",
       "      <td>0</td>\n",
       "      <td>0</td>\n",
       "      <td>0</td>\n",
       "      <td>0</td>\n",
       "      <td>0</td>\n",
       "      <td>0</td>\n",
       "      <td>0</td>\n",
       "      <td>0</td>\n",
       "    </tr>\n",
       "    <tr>\n",
       "      <th>2</th>\n",
       "      <td>3146</td>\n",
       "      <td>152</td>\n",
       "      <td>14</td>\n",
       "      <td>212</td>\n",
       "      <td>41</td>\n",
       "      <td>940</td>\n",
       "      <td>237</td>\n",
       "      <td>239</td>\n",
       "      <td>130</td>\n",
       "      <td>2007</td>\n",
       "      <td>...</td>\n",
       "      <td>0</td>\n",
       "      <td>0</td>\n",
       "      <td>0</td>\n",
       "      <td>0</td>\n",
       "      <td>0</td>\n",
       "      <td>0</td>\n",
       "      <td>0</td>\n",
       "      <td>0</td>\n",
       "      <td>0</td>\n",
       "      <td>0</td>\n",
       "    </tr>\n",
       "    <tr>\n",
       "      <th>3</th>\n",
       "      <td>2882</td>\n",
       "      <td>18</td>\n",
       "      <td>18</td>\n",
       "      <td>95</td>\n",
       "      <td>-3</td>\n",
       "      <td>485</td>\n",
       "      <td>203</td>\n",
       "      <td>199</td>\n",
       "      <td>128</td>\n",
       "      <td>342</td>\n",
       "      <td>...</td>\n",
       "      <td>1</td>\n",
       "      <td>0</td>\n",
       "      <td>0</td>\n",
       "      <td>0</td>\n",
       "      <td>0</td>\n",
       "      <td>0</td>\n",
       "      <td>0</td>\n",
       "      <td>0</td>\n",
       "      <td>0</td>\n",
       "      <td>0</td>\n",
       "    </tr>\n",
       "    <tr>\n",
       "      <th>4</th>\n",
       "      <td>2912</td>\n",
       "      <td>349</td>\n",
       "      <td>17</td>\n",
       "      <td>283</td>\n",
       "      <td>57</td>\n",
       "      <td>2729</td>\n",
       "      <td>187</td>\n",
       "      <td>210</td>\n",
       "      <td>160</td>\n",
       "      <td>2201</td>\n",
       "      <td>...</td>\n",
       "      <td>0</td>\n",
       "      <td>0</td>\n",
       "      <td>0</td>\n",
       "      <td>0</td>\n",
       "      <td>0</td>\n",
       "      <td>0</td>\n",
       "      <td>0</td>\n",
       "      <td>0</td>\n",
       "      <td>0</td>\n",
       "      <td>0</td>\n",
       "    </tr>\n",
       "  </tbody>\n",
       "</table>\n",
       "<p>5 rows × 54 columns</p>\n",
       "</div>"
      ],
      "text/plain": [
       "     0    1   2    3    4     5    6    7    8     9   ...  44  45  46  47  \\\n",
       "0  2825  265  17  319  108  2298  174  245  209   342  ...   0   0   1   0   \n",
       "1  2719  198  34  134   76  2352  187  245  167   693  ...   0   0   0   0   \n",
       "2  3146  152  14  212   41   940  237  239  130  2007  ...   0   0   0   0   \n",
       "3  2882   18  18   95   -3   485  203  199  128   342  ...   1   0   0   0   \n",
       "4  2912  349  17  283   57  2729  187  210  160  2201  ...   0   0   0   0   \n",
       "\n",
       "   48  49  50  51  52  53  \n",
       "0   0   0   0   0   0   0  \n",
       "1   0   0   0   0   0   0  \n",
       "2   0   0   0   0   0   0  \n",
       "3   0   0   0   0   0   0  \n",
       "4   0   0   0   0   0   0  \n",
       "\n",
       "[5 rows x 54 columns]"
      ]
     },
     "execution_count": 2,
     "metadata": {},
     "output_type": "execute_result"
    }
   ],
   "source": [
    "import pandas as pd\n",
    "import numpy as np\n",
    "import seaborn as sns\n",
    "from sklearn import datasets\n",
    "import matplotlib.pyplot as plt\n",
    "import seaborn as sns\n",
    "from sklearn.preprocessing import StandardScaler\n",
    "from sklearn.preprocessing import LabelEncoder\n",
    "from sklearn.metrics import classification_report\n",
    "from sklearn.model_selection import StratifiedShuffleSplit\n",
    "from collections import Counter\n",
    "sc = StandardScaler()\n",
    "sns.set()\n",
    "import matplotlib.pyplot as plt\n",
    "import timeit\n",
    "%matplotlib inline\n",
    "from sklearn import tree\n",
    "from sklearn.model_selection import train_test_split\n",
    "from sklearn.metrics import accuracy_score, precision_score, recall_score, confusion_matrix, f1_score, roc_auc_score \n",
    "from sklearn.model_selection import GridSearchCV\n",
    "from sklearn.model_selection import RandomizedSearchCV\n",
    "from sklearn.tree import DecisionTreeClassifier \n",
    "from sklearn.ensemble import RandomForestClassifier \n",
    "from sklearn.compose import ColumnTransformer\n",
    "from sklearn.preprocessing import OneHotEncoder\n",
    "from sklearn.model_selection import ShuffleSplit\n",
    "from sklearn.model_selection import StratifiedKFold\n",
    "%matplotlib inline\n",
    "COVER_FILE = pd.read_csv('forest_cover_dataset.csv', header=None)\n",
    "COVER_FILE.head()"
   ]
  },
  {
   "cell_type": "code",
   "execution_count": 3,
   "id": "3a4f674f",
   "metadata": {},
   "outputs": [
    {
     "name": "stdout",
     "output_type": "stream",
     "text": [
      "Int64Index([ 0,  1,  2,  3,  4,  5,  6,  7,  8,  9, 10, 11, 12, 13, 14, 15, 16,\n",
      "            17, 18, 19, 20, 21, 22, 23, 24, 25, 26, 27, 28, 29, 30, 31, 32, 33,\n",
      "            34, 35, 36, 37, 38, 39, 40, 41, 42, 43, 44, 45, 46, 47, 48, 49, 50,\n",
      "            51, 52, 53],\n",
      "           dtype='int64')\n"
     ]
    }
   ],
   "source": [
    "print(COVER_FILE.columns)"
   ]
  },
  {
   "cell_type": "code",
   "execution_count": 4,
   "id": "6774b5f5",
   "metadata": {},
   "outputs": [
    {
     "name": "stdout",
     "output_type": "stream",
     "text": [
      "Row: 280251\n",
      "Features: 54\n"
     ]
    }
   ],
   "source": [
    "COVER_FILE.columns=cover_columns_names\n",
    "row =len(COVER_FILE.axes[0])\n",
    "column =len(COVER_FILE.axes[1])\n",
    "print(\"Row: \"+str(row))\n",
    "print(\"Features: \"+ str(column)) \n",
    "shuffle = ShuffleSplit(n_splits=1,test_size=0.2, random_state=23784559)\n",
    "shuffle2 = ShuffleSplit(n_splits=1,test_size=0.25, random_state=23784559)"
   ]
  },
  {
   "cell_type": "code",
   "execution_count": 5,
   "id": "2e316767",
   "metadata": {},
   "outputs": [],
   "source": [
    "X = COVER_FILE[cover_columns_names]\n",
    "#y = COVER_FILE[cover_columns_names]\n",
    "#train, test = next(shuffle.split(X=X, y=y))\n",
    "train, test = next(shuffle.split(X=X))\n",
    "X_test = X.loc[test]\n",
    "#y_test = y.loc[test]\n",
    "X_train = X.loc[train]\n",
    "#y_train = y.loc[train]\n",
    "X_train0=X_train\n",
    "#y_train0=y_train\n",
    "#train, val = next(shuffle2.split(X=X_train, y=y_train))\n",
    "train, val = next(shuffle2.split(X=X_train))\n",
    "X_train = X.loc[train]\n",
    "#y_train = y.loc[train]\n",
    "X_val = X.loc[val]\n",
    "#y_val = y.loc[val]"
   ]
  },
  {
   "cell_type": "code",
   "execution_count": 6,
   "id": "ac21a178",
   "metadata": {},
   "outputs": [
    {
     "data": {
      "text/plain": [
       "array([[ 0.1247215 ,  0.05404822,  0.78191618, ..., -0.12984599,\n",
       "        -0.12134463, -0.09692576],\n",
       "       [-0.12421345, -0.5715482 ,  0.78191618, ..., -0.12984599,\n",
       "        -0.12134463, -0.09692576],\n",
       "       [-1.79354196, -1.08989952, -1.48269747, ..., -0.12984599,\n",
       "        -0.12134463, -0.09692576],\n",
       "       ...,\n",
       "       [ 0.42124696, -1.03627697,  0.24906591, ..., -0.12984599,\n",
       "        -0.12134463, -0.09692576],\n",
       "       [-2.42320096,  1.38567489,  3.04652983, ..., -0.12984599,\n",
       "        -0.12134463, -0.09692576],\n",
       "       [-2.7526737 , -0.10681943,  2.24725443, ..., -0.12984599,\n",
       "        -0.12134463, -0.09692576]])"
      ]
     },
     "execution_count": 6,
     "metadata": {},
     "output_type": "execute_result"
    }
   ],
   "source": [
    "sc.fit(X_train)\n",
    "sc.transform(X_test)\n",
    "sc.transform(X_val)"
   ]
  },
  {
   "cell_type": "markdown",
   "id": "a9330116",
   "metadata": {},
   "source": [
    "## 1.2 $k$-Means Clustering"
   ]
  },
  {
   "cell_type": "markdown",
   "id": "66349c13",
   "metadata": {},
   "source": [
    "1. Cluster the *training* dataset using ```KMeans``` from Scikit-learn using the values for $k$ below. You can utilize the default implementation in Scikit-learn, which is $k$-means$++$. Construct models for each value of $k$ specified in the ``k_values`` array below.\n",
    "2. Apply the trained models to the validation dataset.\n",
    "3. Compute the **mean** inertia for each value of $k$ on the training and validation datasets. For the training data, you can extract the *total* (**unnormalized**) inertia from the trained models via their respective ```inertia_```. For the validation models, you can utilize the function ```total_inertia``` provided below.\n",
    "4. Plot the mean inertias for all values of $k$ and for both the training and validation sets on a single plot. Based on the elbow method, which value of $k$ should be chosen so that the model will generalize to new data?\n",
    "5. The *Silhouette Coefficient* is another cluster performance metric that combines intra-cluster distance with inter-cluster distances from clusters in close proximity to each other. Utilize Scikit-learn's ```silhouette_score``` function [(documentation)](https://scikit-learn.org/stable/modules/generated/sklearn.metrics.silhouette_score.html#sklearn.metrics.silhouette_score) to compute the silhouette coefficient for all values of $k$ on the *validation* set. Plot these values and determine via the elbow method which value of $k$ should be chosen. How does this value compare to the one chosen using mean inertia?\n",
    "6. Using whichever value of $k$ you think is the best based on steps 4) and 5), create a plot for each feature that contains [boxplots](https://matplotlib.org/stable/gallery/statistics/boxplot_demo.html#sphx-glr-gallery-statistics-boxplot-demo-py) of that feature for each cluster. Based upon these plots, determine which features you think are meaningful in discriminating between the clusters, as well as any other trends you observe."
   ]
  },
  {
   "cell_type": "markdown",
   "id": "f9cf7aaa",
   "metadata": {},
   "source": [
    "### Please Read!\n",
    "You may benefit from parallelizing the creation of the $k$-means models by using the Python package ```joblib```. I've included a code template below that you can customize. For additional details, please refer to [joblib's documentation](https://joblib.readthedocs.io/en/latest/parallel.html)."
   ]
  },
  {
   "cell_type": "code",
   "execution_count": 7,
   "id": "69c59675",
   "metadata": {},
   "outputs": [],
   "source": [
    "k_values=list(range(2,11))+[15,20]"
   ]
  },
  {
   "cell_type": "code",
   "execution_count": 8,
   "id": "dd723091",
   "metadata": {},
   "outputs": [],
   "source": [
    "#from joblib import Parallel, delayed, parallel_backend\n",
    "\n",
    "#with parallel_backend(\"loky\", inner_max_num_threads=2):\n",
    "#    results = Parallel(n_jobs=4)(delayed(func)(x, y) for x, y in data)"
   ]
  },
  {
   "cell_type": "code",
   "execution_count": 9,
   "id": "38cf5490",
   "metadata": {},
   "outputs": [],
   "source": [
    "def total_inertia(dataset,centers,labels,distance=None,mean=True):\n",
    "    \"\"\"\n",
    "    Computes the total inertia (the intracluster variance) given a dataset and the cluster centers.\n",
    "    \n",
    "    Parameters\n",
    "    ----------\n",
    "    dataset : numpy.ndarray\n",
    "        The dataset to evaluate.\n",
    "    center : numpy.ndarray or list\n",
    "        The list of cluster centers.\n",
    "    distance : function\n",
    "        A function that computes the pairwise distance between two samples.\n",
    "        Default: Euclidean (l_2) distance\n",
    "    mean : bool\n",
    "        If True, returns the mean inertia.\n",
    "        Default: True\n",
    "        \n",
    "    Returns\n",
    "    -------\n",
    "    total_inertia : float\n",
    "       The mean inertia (if mean==True) or total inertia (if mean==False).\n",
    "\"\"\"\n",
    "    num_samples,_ = dataset.shape\n",
    "    total_inertia=0\n",
    "    if distance is None:\n",
    "        distance=lambda x,y: np.linalg.norm(x-y)**2\n",
    "    for i,sample in enumerate(dataset):\n",
    "        center = centers[labels[i]]\n",
    "        total_inertia += distance(sample,center)\n",
    "    \n",
    "    if mean:\n",
    "        return total_inertia/num_samples\n",
    "    else:\n",
    "        return total_inertia"
   ]
  },
  {
   "cell_type": "code",
   "execution_count": 10,
   "id": "6ef0c4af",
   "metadata": {},
   "outputs": [],
   "source": [
    "from sklearn.cluster import KMeans"
   ]
  },
  {
   "cell_type": "code",
   "execution_count": 11,
   "id": "98f744dd",
   "metadata": {},
   "outputs": [],
   "source": [
    "from joblib import Parallel, delayed, parallel_backend"
   ]
  },
  {
   "cell_type": "code",
   "execution_count": 12,
   "id": "41d365c4",
   "metadata": {},
   "outputs": [
    {
     "name": "stdout",
     "output_type": "stream",
     "text": [
      "[0 0 0 ... 1 0 0]\n",
      "[0 0 0 ... 2 0 0]\n",
      "[2 0 0 ... 1 0 0]\n",
      "[4 1 1 ... 3 1 1]\n",
      "[0 3 3 ... 1 3 3]\n",
      "[6 2 2 ... 4 2 2]\n",
      "[2 6 6 ... 0 6 6]\n",
      "[0 1 1 ... 3 1 1]\n",
      "[7 3 3 ... 8 3 3]\n",
      "[ 7 12  3 ...  2 12 12]\n",
      "[13 11 12 ...  2 11 11]\n"
     ]
    }
   ],
   "source": [
    "inertiameantrain = []\n",
    "inertiameanval = []\n",
    "silhouetteval = []\n",
    "storedarray=[]\n",
    "from scipy.spatial.distance import cdist\n",
    "from sklearn.metrics import silhouette_score\n",
    "#def kmean1(i,inertiameantrain,inertiameanval,silhouetteval,X_train,X_val):\n",
    "#    kmeantrain = KMeans(n_clusters=i,init='k-means++',random_state=23784559)\n",
    "#    kmeantrain.fit(X_train)\n",
    "#    inertiameantrain.append((sum(np.min(cdist(X_train,kmeantrain.cluster_centers_,'euclidean'),axis = 1))**2)/X_train.shape[0])\n",
    "#    kmeantrain.fit(X_val)\n",
    "#    inertiameanval.append((sum(np.min(cdist(X_val,kmeantrain.cluster_centers_,'euclidean'),axis = 1))**2)/X_val.shape[0])\n",
    "#    silhouetteval.append(silhouette_score(X=X_val,labels=kmeantrain.labels_,metric='euclidean',random_state=23784559))\n",
    "#    return  inertiameantrain,inertiameanval,silhouetteval\n",
    "#with parallel_backend(\"loky\", inner_max_num_threads=2):\n",
    "#   inertiameantrain,inertiameanval,silhouetteval=Parallel(n_jobs=2)(delayed(kmean1)(i,inertiameantrain,inertiameanval,silhouetteval,X_train,X_val) for i in k_values)\n",
    "for i in k_values:\n",
    "    kmeantrain = KMeans(n_clusters=i,init='k-means++',random_state=23784559)\n",
    "    kmeantrain.fit(X_train)\n",
    "    inertiameantrain.append((sum(np.min(cdist(X_train,kmeantrain.cluster_centers_,'euclidean'),axis = 1)) **2)/X_train.shape[0])\n",
    "    print(kmeantrain.predict(X_val))\n",
    "    kmeantrain1 = KMeans(n_clusters=i,init='k-means++',random_state=23784559)\n",
    "    kmeantrain1.fit(X_val)\n",
    "    inertiameanval.append((sum(np.min(cdist(X_val,kmeantrain1.cluster_centers_,'euclidean'),axis = 1)) **2)/X_val.shape[0])\n",
    "    silhouetteval.append(silhouette_score(X=X_val,labels=kmeantrain1.labels_,metric='euclidean',random_state=23784559))"
   ]
  },
  {
   "cell_type": "code",
   "execution_count": 13,
   "id": "257ccf1e",
   "metadata": {},
   "outputs": [
    {
     "name": "stdout",
     "output_type": "stream",
     "text": [
      "[310797402362.72644, 233793583824.30545, 175228369860.1723, 139765768787.10306, 127559003745.26501, 111339306719.67148, 101804442183.69073, 92286360590.5509, 83979732602.59143, 61976627950.7885, 51312845503.72037]\n"
     ]
    }
   ],
   "source": [
    "print(inertiameantrain)"
   ]
  },
  {
   "cell_type": "code",
   "execution_count": 14,
   "id": "fa83473d",
   "metadata": {},
   "outputs": [
    {
     "data": {
      "image/png": "[encoded data removed]",
      "text/plain": [
       "<Figure size 432x288 with 1 Axes>"
      ]
     },
     "metadata": {
      "needs_background": "light"
     },
     "output_type": "display_data"
    }
   ],
   "source": [
    "plt.plot(k_values, inertiameantrain,marker='o')\n",
    "plt.title('Elbow method for Training')\n",
    "plt.xlabel('Number of clusters')\n",
    "plt.ylabel('Mean Inertia')\n",
    "plt.show()"
   ]
  },
  {
   "cell_type": "code",
   "execution_count": 15,
   "id": "e1377e00",
   "metadata": {},
   "outputs": [
    {
     "data": {
      "image/png": "[encoded data removed]",
      "text/plain": [
       "<Figure size 432x288 with 1 Axes>"
      ]
     },
     "metadata": {
      "needs_background": "light"
     },
     "output_type": "display_data"
    }
   ],
   "source": [
    "plt.plot(k_values, inertiameanval,marker='o')\n",
    "plt.title('Elbow method for Validation')\n",
    "plt.xlabel('Number of clusters')\n",
    "plt.ylabel('Mean Inertia')\n",
    "plt.show()"
   ]
  },
  {
   "cell_type": "code",
   "execution_count": 16,
   "id": "481121ab",
   "metadata": {},
   "outputs": [
    {
     "data": {
      "image/png": "[encoded data removed]",
      "text/plain": [
       "<Figure size 432x288 with 1 Axes>"
      ]
     },
     "metadata": {
      "needs_background": "light"
     },
     "output_type": "display_data"
    }
   ],
   "source": [
    "plt.plot(k_values, silhouetteval,marker='o')\n",
    "plt.title('Elbow method for Silhouette')\n",
    "plt.xlabel('Number of clusters')\n",
    "plt.ylabel('Silhouette Value')\n",
    "plt.show()"
   ]
  },
  {
   "cell_type": "code",
   "execution_count": 17,
   "id": "f2b595ae",
   "metadata": {},
   "outputs": [
    {
     "name": "stdout",
     "output_type": "stream",
     "text": [
      "5 is the best number of clusters in regards to mean inertia, and 9 is the best number of clusters in regards to silhouette. For mean inertia, 5 is the transition between steep and smooth, and 9 is that for silhouette. I would pick 9 as it seems to be more substantial for a large dataset and silhouette shows an unstable changing slope before 9's smoother transition.\n"
     ]
    }
   ],
   "source": [
    "print(\"5 is the best number of clusters in regards to mean inertia, and 9 is the best number of clusters in regards to silhouette. For mean inertia, 5 is the transition between steep and smooth, and 9 is that for silhouette. I would pick 9 as it seems to be more substantial for a large dataset and silhouette shows an unstable changing slope before 9's smoother transition.\")"
   ]
  },
  {
   "cell_type": "code",
   "execution_count": 18,
   "id": "fe0a1fea",
   "metadata": {},
   "outputs": [],
   "source": [
    "kmeantrain1 = KMeans(n_clusters=9,init='k-means++',random_state=23784559)\n",
    "kmeantrain1.fit(X_val)\n",
    "predict1=kmeantrain1.predict(X_val)\n"
   ]
  },
  {
   "cell_type": "code",
   "execution_count": 19,
   "id": "1c7485d8",
   "metadata": {},
   "outputs": [
    {
     "name": "stdout",
     "output_type": "stream",
     "text": [
      "56050\n",
      "56050\n"
     ]
    },
    {
     "data": {
      "text/html": [
       "<div>\n",
       "<style scoped>\n",
       "    .dataframe tbody tr th:only-of-type {\n",
       "        vertical-align: middle;\n",
       "    }\n",
       "\n",
       "    .dataframe tbody tr th {\n",
       "        vertical-align: top;\n",
       "    }\n",
       "\n",
       "    .dataframe thead th {\n",
       "        text-align: right;\n",
       "    }\n",
       "</style>\n",
       "<table border=\"1\" class=\"dataframe\">\n",
       "  <thead>\n",
       "    <tr style=\"text-align: right;\">\n",
       "      <th></th>\n",
       "      <th>Elevation</th>\n",
       "      <th>Aspect</th>\n",
       "      <th>Slope</th>\n",
       "      <th>Horizontal_Distance_To_Hydrology</th>\n",
       "      <th>Vertical_Distance_To_Hydrology</th>\n",
       "      <th>Horizontal_Distance_To_Roadways</th>\n",
       "      <th>Hillshade_9am</th>\n",
       "      <th>Hillshade_Noon</th>\n",
       "      <th>Hillshade_3pm</th>\n",
       "      <th>Horizontal_Distance_To_Fire_Points</th>\n",
       "      <th>...</th>\n",
       "      <th>Soil_31</th>\n",
       "      <th>Soil_32</th>\n",
       "      <th>Soil_33</th>\n",
       "      <th>Soil_34</th>\n",
       "      <th>Soil_35</th>\n",
       "      <th>Soil_36</th>\n",
       "      <th>Soil_37</th>\n",
       "      <th>Soil_38</th>\n",
       "      <th>Soil_39</th>\n",
       "      <th>cluster</th>\n",
       "    </tr>\n",
       "  </thead>\n",
       "  <tbody>\n",
       "    <tr>\n",
       "      <th>206661</th>\n",
       "      <td>2979</td>\n",
       "      <td>162</td>\n",
       "      <td>20</td>\n",
       "      <td>297</td>\n",
       "      <td>59</td>\n",
       "      <td>1948</td>\n",
       "      <td>235</td>\n",
       "      <td>241</td>\n",
       "      <td>127</td>\n",
       "      <td>1451</td>\n",
       "      <td>...</td>\n",
       "      <td>0</td>\n",
       "      <td>0</td>\n",
       "      <td>0</td>\n",
       "      <td>0</td>\n",
       "      <td>0</td>\n",
       "      <td>0</td>\n",
       "      <td>0</td>\n",
       "      <td>0</td>\n",
       "      <td>0</td>\n",
       "      <td>6</td>\n",
       "    </tr>\n",
       "    <tr>\n",
       "      <th>85672</th>\n",
       "      <td>2911</td>\n",
       "      <td>92</td>\n",
       "      <td>20</td>\n",
       "      <td>433</td>\n",
       "      <td>84</td>\n",
       "      <td>1084</td>\n",
       "      <td>247</td>\n",
       "      <td>204</td>\n",
       "      <td>77</td>\n",
       "      <td>450</td>\n",
       "      <td>...</td>\n",
       "      <td>0</td>\n",
       "      <td>0</td>\n",
       "      <td>0</td>\n",
       "      <td>0</td>\n",
       "      <td>0</td>\n",
       "      <td>0</td>\n",
       "      <td>0</td>\n",
       "      <td>0</td>\n",
       "      <td>0</td>\n",
       "      <td>0</td>\n",
       "    </tr>\n",
       "    <tr>\n",
       "      <th>35194</th>\n",
       "      <td>2455</td>\n",
       "      <td>34</td>\n",
       "      <td>3</td>\n",
       "      <td>503</td>\n",
       "      <td>99</td>\n",
       "      <td>721</td>\n",
       "      <td>219</td>\n",
       "      <td>232</td>\n",
       "      <td>149</td>\n",
       "      <td>1154</td>\n",
       "      <td>...</td>\n",
       "      <td>0</td>\n",
       "      <td>0</td>\n",
       "      <td>0</td>\n",
       "      <td>0</td>\n",
       "      <td>0</td>\n",
       "      <td>0</td>\n",
       "      <td>0</td>\n",
       "      <td>0</td>\n",
       "      <td>0</td>\n",
       "      <td>0</td>\n",
       "    </tr>\n",
       "    <tr>\n",
       "      <th>127400</th>\n",
       "      <td>2478</td>\n",
       "      <td>294</td>\n",
       "      <td>19</td>\n",
       "      <td>108</td>\n",
       "      <td>54</td>\n",
       "      <td>983</td>\n",
       "      <td>162</td>\n",
       "      <td>231</td>\n",
       "      <td>208</td>\n",
       "      <td>659</td>\n",
       "      <td>...</td>\n",
       "      <td>0</td>\n",
       "      <td>0</td>\n",
       "      <td>0</td>\n",
       "      <td>0</td>\n",
       "      <td>0</td>\n",
       "      <td>0</td>\n",
       "      <td>0</td>\n",
       "      <td>0</td>\n",
       "      <td>0</td>\n",
       "      <td>0</td>\n",
       "    </tr>\n",
       "    <tr>\n",
       "      <th>197077</th>\n",
       "      <td>3151</td>\n",
       "      <td>79</td>\n",
       "      <td>15</td>\n",
       "      <td>418</td>\n",
       "      <td>126</td>\n",
       "      <td>2190</td>\n",
       "      <td>238</td>\n",
       "      <td>212</td>\n",
       "      <td>101</td>\n",
       "      <td>1776</td>\n",
       "      <td>...</td>\n",
       "      <td>0</td>\n",
       "      <td>1</td>\n",
       "      <td>0</td>\n",
       "      <td>0</td>\n",
       "      <td>0</td>\n",
       "      <td>0</td>\n",
       "      <td>0</td>\n",
       "      <td>0</td>\n",
       "      <td>0</td>\n",
       "      <td>6</td>\n",
       "    </tr>\n",
       "  </tbody>\n",
       "</table>\n",
       "<p>5 rows × 55 columns</p>\n",
       "</div>"
      ],
      "text/plain": [
       "        Elevation  Aspect  Slope  Horizontal_Distance_To_Hydrology  \\\n",
       "206661       2979     162     20                               297   \n",
       "85672        2911      92     20                               433   \n",
       "35194        2455      34      3                               503   \n",
       "127400       2478     294     19                               108   \n",
       "197077       3151      79     15                               418   \n",
       "\n",
       "        Vertical_Distance_To_Hydrology  Horizontal_Distance_To_Roadways  \\\n",
       "206661                              59                             1948   \n",
       "85672                               84                             1084   \n",
       "35194                               99                              721   \n",
       "127400                              54                              983   \n",
       "197077                             126                             2190   \n",
       "\n",
       "        Hillshade_9am  Hillshade_Noon  Hillshade_3pm  \\\n",
       "206661            235             241            127   \n",
       "85672             247             204             77   \n",
       "35194             219             232            149   \n",
       "127400            162             231            208   \n",
       "197077            238             212            101   \n",
       "\n",
       "        Horizontal_Distance_To_Fire_Points  ...  Soil_31  Soil_32  Soil_33  \\\n",
       "206661                                1451  ...        0        0        0   \n",
       "85672                                  450  ...        0        0        0   \n",
       "35194                                 1154  ...        0        0        0   \n",
       "127400                                 659  ...        0        0        0   \n",
       "197077                                1776  ...        0        1        0   \n",
       "\n",
       "        Soil_34  Soil_35  Soil_36  Soil_37  Soil_38  Soil_39  cluster  \n",
       "206661        0        0        0        0        0        0        6  \n",
       "85672         0        0        0        0        0        0        0  \n",
       "35194         0        0        0        0        0        0        0  \n",
       "127400        0        0        0        0        0        0        0  \n",
       "197077        0        0        0        0        0        0        6  \n",
       "\n",
       "[5 rows x 55 columns]"
      ]
     },
     "execution_count": 19,
     "metadata": {},
     "output_type": "execute_result"
    }
   ],
   "source": [
    "print(len(kmeantrain1.labels_))\n",
    "print(X_val.shape[0])\n",
    "X_valtest=X_val\n",
    "X_valtest['cluster']=kmeantrain1.labels_\n",
    "X_valtest.head()"
   ]
  },
  {
   "cell_type": "code",
   "execution_count": 20,
   "id": "8d250818",
   "metadata": {},
   "outputs": [
    {
     "data": {
      "image/png": "[encoded data removed]",
      "text/plain": [
       "<Figure size 19440x360 with 54 Axes>"
      ]
     },
     "metadata": {
      "needs_background": "light"
     },
     "output_type": "display_data"
    },
    {
     "data": {
      "text/plain": [
       "<Figure size 1440x1440 with 0 Axes>"
      ]
     },
     "metadata": {},
     "output_type": "display_data"
    }
   ],
   "source": [
    "X_valtest_long = X_valtest.melt(id_vars='cluster', value_vars=X_valtest.columns[:-1], var_name='variable', value_name='values')\n",
    "sns.catplot(kind='box', data=X_valtest_long, col='variable', y='values', x='cluster', hue='cluster', palette=\"colorblind\", sharey=False)\n",
    "plt.figure(figsize=(20,20))\n",
    "plt.show()"
   ]
  },
  {
   "cell_type": "code",
   "execution_count": 21,
   "id": "10130896",
   "metadata": {},
   "outputs": [
    {
     "name": "stdout",
     "output_type": "stream",
     "text": [
      "Click on the boxplots to magnify them. Elevation, roadway distance, fire points, and arguably aspect are good distinguishing features, soil has largely same distribution, whereas slope and hydrology have varying outlier maximums, and hillshade varying outlier minimums\n"
     ]
    }
   ],
   "source": [
    "print(\"Click on the boxplots to magnify them. Elevation, roadway distance, fire points, and arguably aspect are good distinguishing features, soil has largely same distribution, whereas slope and hydrology have varying outlier maximums, and hillshade varying outlier minimums\")"
   ]
  },
  {
   "cell_type": "markdown",
   "id": "bb119707",
   "metadata": {},
   "source": [
    "# Part 2: Regression"
   ]
  },
  {
   "cell_type": "markdown",
   "id": "41364bb3",
   "metadata": {},
   "source": [
    "In this part of the project, you will be utilizing a US database of crime and law enforcement statistics broken down by US Census communities. The **goal** will be to create *regression models* that predict *per capita violent crimes* (the response variable `ViolentCrimesPerPop`) for a given community based on these inputs. "
   ]
  },
  {
   "cell_type": "code",
   "execution_count": 22,
   "id": "5d0dad23",
   "metadata": {},
   "outputs": [],
   "source": [
    "crime_column_names= ['state', 'county', 'community', 'communityname', 'fold', 'population', 'householdsize',\n",
    "                 'racepctblack', 'racePctWhite', 'racePctAsian', 'racePctHisp', 'agePct12t21', 'agePct12t29',\n",
    "                 'agePct16t24', 'agePct65up', 'numbUrban', 'pctUrban', 'medIncome', 'pctWWage', 'pctWFarmSelf',\n",
    "                 'pctWInvInc', 'pctWSocSec', 'pctWPubAsst', 'pctWRetire', 'medFamInc', 'perCapInc', 'whitePerCap',\n",
    "                 'blackPerCap', 'indianPerCap', 'AsianPerCap', 'OtherPerCap', 'HispPerCap', 'NumUnderPov', 'PctPopUnderPov',\n",
    "                 'PctLess9thGrade', 'PctNotHSGrad', 'PctBSorMore', 'PctUnemployed', 'PctEmploy', 'PctEmplManu',\n",
    "                 'PctEmplProfServ', 'PctOccupManu', 'PctOccupMgmtProf', 'MalePctDivorce', 'MalePctNevMarr',\n",
    "                 'FemalePctDiv', 'TotalPctDiv', 'PersPerFam', 'PctFam2Par', 'PctKids2Par', 'PctYoungKids2Par',\n",
    "                 'PctTeen2Par', 'PctWorkMomYoungKids', 'PctWorkMom', 'NumIlleg', 'PctIlleg', 'NumImmig', 'PctImmigRecent',\n",
    "                 'PctImmigRec5', 'PctImmigRec8', 'PctImmigRec10', 'PctRecentImmig', 'PctRecImmig5', 'PctRecImmig8',\n",
    "                 'PctRecImmig10', 'PctSpeakEnglOnly', 'PctNotSpeakEnglWell', 'PctLargHouseFam', 'PctLargHouseOccup',\n",
    "                 'PersPerOccupHous', 'PersPerOwnOccHous', 'PersPerRentOccHous', 'PctPersOwnOccup', 'PctPersDenseHous',\n",
    "                 'PctHousLess3BR', 'MedNumBR', 'HousVacant', 'PctHousOccup', 'PctHousOwnOcc', 'PctVacantBoarded',\n",
    "                 'PctVacMore6Mos', 'MedYrHousBuilt', 'PctHousNoPhone', 'PctWOFullPlumb', 'OwnOccLowQuart', 'OwnOccMedVal',\n",
    "                 'OwnOccHiQuart', 'RentLowQ', 'RentMedian', 'RentHighQ', 'MedRent', 'MedRentPctHousInc', 'MedOwnCostPctInc',\n",
    "                 'MedOwnCostPctIncNoMtg', 'NumInShelters', 'NumStreet', 'PctForeignBorn', 'PctBornSameState', 'PctSameHouse85',\n",
    "                 'PctSameCity85', 'PctSameState85', 'LemasSwornFT', 'LemasSwFTPerPop', 'LemasSwFTFieldOps',\n",
    "                 'LemasSwFTFieldPerPop', 'LemasTotalReq', 'LemasTotReqPerPop', 'PolicReqPerOffic',\n",
    "                 'PolicPerPop', 'RacialMatchCommPol', 'PctPolicWhite', 'PctPolicBlack', 'PctPolicHisp',\n",
    "                 'PctPolicAsian', 'PctPolicMinor', 'OfficAssgnDrugUnits', 'NumKindsDrugsSeiz', 'PolicAveOTWorked',\n",
    "                 'LandArea', 'PopDens', 'PctUsePubTrans', 'PolicCars', 'PolicOperBudg', 'LemasPctPolicOnPatr',\n",
    "                 'LemasGangUnitDeploy', 'LemasPctOfficDrugUn', 'PolicBudgPerPop', 'ViolentCrimesPerPop']"
   ]
  },
  {
   "cell_type": "markdown",
   "id": "9ccb673a",
   "metadata": {},
   "source": [
    "## 2.1 Load Data\n",
    "Set the variable `CRIME_FILE` to the **full path** to the forest cover dataset (**crime.csv**) on your system. Load the file into a dataframe (you may initialize the column names using the header list `crime_column_names`), then:\n",
    "1. Determine the number and types of features.\n",
    "2. Perform a **ShuffleSplit** of the data into training/validation/test sets, 60%/20%/20%. \n",
    "3. Split the **non-test data** (*training* + *validation* data) into **5 folds** for cross-validation purposes.\n",
    "4. Perform any necessary preprocessing on dataset. This may include:\n",
    "  * determining if any features should be dropped;\n",
    "  * handling missing data, through imputation and/or complete case analysis. If you **perform imputation on numerical values**, please use **median** imputation.\n",
    "\n",
    "**Please note!** The Scikit-learn function `SimpleImputer` does not work as expected when the feature to impute is numerical but the missing values are not. One way to solve this is to first replace the missing values with NaN values (e.g., `np.nan`) using the Pandas Dataframe method `replace` [(documentation)](https://pandas.pydata.org/docs/reference/api/pandas.DataFrame.replace.html)."
   ]
  },
  {
   "cell_type": "code",
   "execution_count": 23,
   "id": "4b9ceecb",
   "metadata": {},
   "outputs": [
    {
     "name": "stdout",
     "output_type": "stream",
     "text": [
      "54\n"
     ]
    }
   ],
   "source": [
    "CRIME_FILE = pd.read_csv('crime.csv', header=None)\n",
    "CRIME_FILE.columns=crime_column_names\n",
    "crimerow =len(COVER_FILE.axes[0])\n",
    "crimecolumn =len(COVER_FILE.axes[1])\n",
    "print(crimecolumn)\n",
    "from sklearn.model_selection import StratifiedShuffleSplit"
   ]
  },
  {
   "cell_type": "code",
   "execution_count": 24,
   "id": "5e628adc",
   "metadata": {},
   "outputs": [
    {
     "name": "stdout",
     "output_type": "stream",
     "text": [
      "int64\n",
      "object\n",
      "object\n",
      "object\n"
     ]
    }
   ],
   "source": [
    "datatypes1 = CRIME_FILE.dtypes['state']\n",
    "print(datatypes1)\n",
    "datatypes2 = CRIME_FILE.dtypes['county']\n",
    "print(datatypes2)\n",
    "datatypes3 = CRIME_FILE.dtypes['community']\n",
    "print(datatypes3)\n",
    "datatypes4 = CRIME_FILE.dtypes['communityname']\n",
    "print(datatypes4)"
   ]
  },
  {
   "cell_type": "code",
   "execution_count": 25,
   "id": "ce20ffa5",
   "metadata": {},
   "outputs": [
    {
     "data": {
      "text/html": [
       "<div>\n",
       "<style scoped>\n",
       "    .dataframe tbody tr th:only-of-type {\n",
       "        vertical-align: middle;\n",
       "    }\n",
       "\n",
       "    .dataframe tbody tr th {\n",
       "        vertical-align: top;\n",
       "    }\n",
       "\n",
       "    .dataframe thead th {\n",
       "        text-align: right;\n",
       "    }\n",
       "</style>\n",
       "<table border=\"1\" class=\"dataframe\">\n",
       "  <thead>\n",
       "    <tr style=\"text-align: right;\">\n",
       "      <th></th>\n",
       "      <th>state</th>\n",
       "      <th>county</th>\n",
       "      <th>community</th>\n",
       "      <th>communityname</th>\n",
       "      <th>fold</th>\n",
       "      <th>population</th>\n",
       "      <th>householdsize</th>\n",
       "      <th>racepctblack</th>\n",
       "      <th>racePctWhite</th>\n",
       "      <th>racePctAsian</th>\n",
       "      <th>...</th>\n",
       "      <th>LandArea</th>\n",
       "      <th>PopDens</th>\n",
       "      <th>PctUsePubTrans</th>\n",
       "      <th>PolicCars</th>\n",
       "      <th>PolicOperBudg</th>\n",
       "      <th>LemasPctPolicOnPatr</th>\n",
       "      <th>LemasGangUnitDeploy</th>\n",
       "      <th>LemasPctOfficDrugUn</th>\n",
       "      <th>PolicBudgPerPop</th>\n",
       "      <th>ViolentCrimesPerPop</th>\n",
       "    </tr>\n",
       "  </thead>\n",
       "  <tbody>\n",
       "    <tr>\n",
       "      <th>0</th>\n",
       "      <td>8</td>\n",
       "      <td>?</td>\n",
       "      <td>?</td>\n",
       "      <td>Lakewoodcity</td>\n",
       "      <td>1</td>\n",
       "      <td>0.19</td>\n",
       "      <td>0.33</td>\n",
       "      <td>0.02</td>\n",
       "      <td>0.90</td>\n",
       "      <td>0.12</td>\n",
       "      <td>...</td>\n",
       "      <td>0.12</td>\n",
       "      <td>0.26</td>\n",
       "      <td>0.20</td>\n",
       "      <td>0.06</td>\n",
       "      <td>0.04</td>\n",
       "      <td>0.9</td>\n",
       "      <td>0.5</td>\n",
       "      <td>0.32</td>\n",
       "      <td>0.14</td>\n",
       "      <td>0.20</td>\n",
       "    </tr>\n",
       "    <tr>\n",
       "      <th>1</th>\n",
       "      <td>53</td>\n",
       "      <td>?</td>\n",
       "      <td>?</td>\n",
       "      <td>Tukwilacity</td>\n",
       "      <td>1</td>\n",
       "      <td>0.00</td>\n",
       "      <td>0.16</td>\n",
       "      <td>0.12</td>\n",
       "      <td>0.74</td>\n",
       "      <td>0.45</td>\n",
       "      <td>...</td>\n",
       "      <td>0.02</td>\n",
       "      <td>0.12</td>\n",
       "      <td>0.45</td>\n",
       "      <td>?</td>\n",
       "      <td>?</td>\n",
       "      <td>?</td>\n",
       "      <td>?</td>\n",
       "      <td>0.00</td>\n",
       "      <td>?</td>\n",
       "      <td>0.67</td>\n",
       "    </tr>\n",
       "    <tr>\n",
       "      <th>2</th>\n",
       "      <td>24</td>\n",
       "      <td>?</td>\n",
       "      <td>?</td>\n",
       "      <td>Aberdeentown</td>\n",
       "      <td>1</td>\n",
       "      <td>0.00</td>\n",
       "      <td>0.42</td>\n",
       "      <td>0.49</td>\n",
       "      <td>0.56</td>\n",
       "      <td>0.17</td>\n",
       "      <td>...</td>\n",
       "      <td>0.01</td>\n",
       "      <td>0.21</td>\n",
       "      <td>0.02</td>\n",
       "      <td>?</td>\n",
       "      <td>?</td>\n",
       "      <td>?</td>\n",
       "      <td>?</td>\n",
       "      <td>0.00</td>\n",
       "      <td>?</td>\n",
       "      <td>0.43</td>\n",
       "    </tr>\n",
       "    <tr>\n",
       "      <th>3</th>\n",
       "      <td>34</td>\n",
       "      <td>5</td>\n",
       "      <td>81440</td>\n",
       "      <td>Willingborotownship</td>\n",
       "      <td>1</td>\n",
       "      <td>0.04</td>\n",
       "      <td>0.77</td>\n",
       "      <td>1.00</td>\n",
       "      <td>0.08</td>\n",
       "      <td>0.12</td>\n",
       "      <td>...</td>\n",
       "      <td>0.02</td>\n",
       "      <td>0.39</td>\n",
       "      <td>0.28</td>\n",
       "      <td>?</td>\n",
       "      <td>?</td>\n",
       "      <td>?</td>\n",
       "      <td>?</td>\n",
       "      <td>0.00</td>\n",
       "      <td>?</td>\n",
       "      <td>0.12</td>\n",
       "    </tr>\n",
       "    <tr>\n",
       "      <th>4</th>\n",
       "      <td>42</td>\n",
       "      <td>95</td>\n",
       "      <td>6096</td>\n",
       "      <td>Bethlehemtownship</td>\n",
       "      <td>1</td>\n",
       "      <td>0.01</td>\n",
       "      <td>0.55</td>\n",
       "      <td>0.02</td>\n",
       "      <td>0.95</td>\n",
       "      <td>0.09</td>\n",
       "      <td>...</td>\n",
       "      <td>0.04</td>\n",
       "      <td>0.09</td>\n",
       "      <td>0.02</td>\n",
       "      <td>?</td>\n",
       "      <td>?</td>\n",
       "      <td>?</td>\n",
       "      <td>?</td>\n",
       "      <td>0.00</td>\n",
       "      <td>?</td>\n",
       "      <td>0.03</td>\n",
       "    </tr>\n",
       "  </tbody>\n",
       "</table>\n",
       "<p>5 rows × 128 columns</p>\n",
       "</div>"
      ],
      "text/plain": [
       "   state county community        communityname  fold  population  \\\n",
       "0      8      ?         ?         Lakewoodcity     1        0.19   \n",
       "1     53      ?         ?          Tukwilacity     1        0.00   \n",
       "2     24      ?         ?         Aberdeentown     1        0.00   \n",
       "3     34      5     81440  Willingborotownship     1        0.04   \n",
       "4     42     95      6096    Bethlehemtownship     1        0.01   \n",
       "\n",
       "   householdsize  racepctblack  racePctWhite  racePctAsian  ...  LandArea  \\\n",
       "0           0.33          0.02          0.90          0.12  ...      0.12   \n",
       "1           0.16          0.12          0.74          0.45  ...      0.02   \n",
       "2           0.42          0.49          0.56          0.17  ...      0.01   \n",
       "3           0.77          1.00          0.08          0.12  ...      0.02   \n",
       "4           0.55          0.02          0.95          0.09  ...      0.04   \n",
       "\n",
       "   PopDens  PctUsePubTrans  PolicCars  PolicOperBudg  LemasPctPolicOnPatr  \\\n",
       "0     0.26            0.20       0.06           0.04                  0.9   \n",
       "1     0.12            0.45          ?              ?                    ?   \n",
       "2     0.21            0.02          ?              ?                    ?   \n",
       "3     0.39            0.28          ?              ?                    ?   \n",
       "4     0.09            0.02          ?              ?                    ?   \n",
       "\n",
       "   LemasGangUnitDeploy  LemasPctOfficDrugUn  PolicBudgPerPop  \\\n",
       "0                  0.5                 0.32             0.14   \n",
       "1                    ?                 0.00                ?   \n",
       "2                    ?                 0.00                ?   \n",
       "3                    ?                 0.00                ?   \n",
       "4                    ?                 0.00                ?   \n",
       "\n",
       "   ViolentCrimesPerPop  \n",
       "0                 0.20  \n",
       "1                 0.67  \n",
       "2                 0.43  \n",
       "3                 0.12  \n",
       "4                 0.03  \n",
       "\n",
       "[5 rows x 128 columns]"
      ]
     },
     "execution_count": 25,
     "metadata": {},
     "output_type": "execute_result"
    }
   ],
   "source": [
    "CRIME_FILE.head()"
   ]
  },
  {
   "cell_type": "code",
   "execution_count": 26,
   "id": "75434082",
   "metadata": {},
   "outputs": [
    {
     "name": "stdout",
     "output_type": "stream",
     "text": [
      "Index(['state', 'county', 'community', 'communityname', 'fold', 'population',\n",
      "       'householdsize', 'racepctblack', 'racePctWhite', 'racePctAsian',\n",
      "       ...\n",
      "       'LandArea', 'PopDens', 'PctUsePubTrans', 'PolicCars', 'PolicOperBudg',\n",
      "       'LemasPctPolicOnPatr', 'LemasGangUnitDeploy', 'LemasPctOfficDrugUn',\n",
      "       'PolicBudgPerPop', 'ViolentCrimesPerPop'],\n",
      "      dtype='object', length=128)\n"
     ]
    }
   ],
   "source": [
    "print(CRIME_FILE.columns)"
   ]
  },
  {
   "cell_type": "code",
   "execution_count": 27,
   "id": "1cbad3ef",
   "metadata": {},
   "outputs": [
    {
     "name": "stdout",
     "output_type": "stream",
     "text": [
      "['LemasSwornFT', 'LemasSwFTPerPop', 'LemasSwFTFieldOps', 'LemasSwFTFieldPerPop', 'LemasTotalReq', 'LemasTotReqPerPop', 'PolicReqPerOffic', 'PolicPerPop', 'RacialMatchCommPol', 'PctPolicWhite', 'PctPolicBlack', 'PctPolicHisp', 'PctPolicAsian', 'PctPolicMinor', 'OfficAssgnDrugUnits', 'NumKindsDrugsSeiz', 'PolicAveOTWorked', 'PolicCars', 'PolicOperBudg', 'LemasPctPolicOnPatr', 'LemasGangUnitDeploy', 'PolicBudgPerPop']\n"
     ]
    },
    {
     "data": {
      "text/html": [
       "<div>\n",
       "<style scoped>\n",
       "    .dataframe tbody tr th:only-of-type {\n",
       "        vertical-align: middle;\n",
       "    }\n",
       "\n",
       "    .dataframe tbody tr th {\n",
       "        vertical-align: top;\n",
       "    }\n",
       "\n",
       "    .dataframe thead th {\n",
       "        text-align: right;\n",
       "    }\n",
       "</style>\n",
       "<table border=\"1\" class=\"dataframe\">\n",
       "  <thead>\n",
       "    <tr style=\"text-align: right;\">\n",
       "      <th></th>\n",
       "      <th>fold</th>\n",
       "      <th>population</th>\n",
       "      <th>householdsize</th>\n",
       "      <th>racepctblack</th>\n",
       "      <th>racePctWhite</th>\n",
       "      <th>racePctAsian</th>\n",
       "      <th>racePctHisp</th>\n",
       "      <th>agePct12t21</th>\n",
       "      <th>agePct12t29</th>\n",
       "      <th>agePct16t24</th>\n",
       "      <th>...</th>\n",
       "      <th>PctForeignBorn</th>\n",
       "      <th>PctBornSameState</th>\n",
       "      <th>PctSameHouse85</th>\n",
       "      <th>PctSameCity85</th>\n",
       "      <th>PctSameState85</th>\n",
       "      <th>LandArea</th>\n",
       "      <th>PopDens</th>\n",
       "      <th>PctUsePubTrans</th>\n",
       "      <th>LemasPctOfficDrugUn</th>\n",
       "      <th>ViolentCrimesPerPop</th>\n",
       "    </tr>\n",
       "  </thead>\n",
       "  <tbody>\n",
       "    <tr>\n",
       "      <th>0</th>\n",
       "      <td>1</td>\n",
       "      <td>0.19</td>\n",
       "      <td>0.33</td>\n",
       "      <td>0.02</td>\n",
       "      <td>0.90</td>\n",
       "      <td>0.12</td>\n",
       "      <td>0.17</td>\n",
       "      <td>0.34</td>\n",
       "      <td>0.47</td>\n",
       "      <td>0.29</td>\n",
       "      <td>...</td>\n",
       "      <td>0.12</td>\n",
       "      <td>0.42</td>\n",
       "      <td>0.50</td>\n",
       "      <td>0.51</td>\n",
       "      <td>0.64</td>\n",
       "      <td>0.12</td>\n",
       "      <td>0.26</td>\n",
       "      <td>0.20</td>\n",
       "      <td>0.32</td>\n",
       "      <td>0.20</td>\n",
       "    </tr>\n",
       "    <tr>\n",
       "      <th>1</th>\n",
       "      <td>1</td>\n",
       "      <td>0.00</td>\n",
       "      <td>0.16</td>\n",
       "      <td>0.12</td>\n",
       "      <td>0.74</td>\n",
       "      <td>0.45</td>\n",
       "      <td>0.07</td>\n",
       "      <td>0.26</td>\n",
       "      <td>0.59</td>\n",
       "      <td>0.35</td>\n",
       "      <td>...</td>\n",
       "      <td>0.21</td>\n",
       "      <td>0.50</td>\n",
       "      <td>0.34</td>\n",
       "      <td>0.60</td>\n",
       "      <td>0.52</td>\n",
       "      <td>0.02</td>\n",
       "      <td>0.12</td>\n",
       "      <td>0.45</td>\n",
       "      <td>0.00</td>\n",
       "      <td>0.67</td>\n",
       "    </tr>\n",
       "    <tr>\n",
       "      <th>2</th>\n",
       "      <td>1</td>\n",
       "      <td>0.00</td>\n",
       "      <td>0.42</td>\n",
       "      <td>0.49</td>\n",
       "      <td>0.56</td>\n",
       "      <td>0.17</td>\n",
       "      <td>0.04</td>\n",
       "      <td>0.39</td>\n",
       "      <td>0.47</td>\n",
       "      <td>0.28</td>\n",
       "      <td>...</td>\n",
       "      <td>0.14</td>\n",
       "      <td>0.49</td>\n",
       "      <td>0.54</td>\n",
       "      <td>0.67</td>\n",
       "      <td>0.56</td>\n",
       "      <td>0.01</td>\n",
       "      <td>0.21</td>\n",
       "      <td>0.02</td>\n",
       "      <td>0.00</td>\n",
       "      <td>0.43</td>\n",
       "    </tr>\n",
       "    <tr>\n",
       "      <th>3</th>\n",
       "      <td>1</td>\n",
       "      <td>0.04</td>\n",
       "      <td>0.77</td>\n",
       "      <td>1.00</td>\n",
       "      <td>0.08</td>\n",
       "      <td>0.12</td>\n",
       "      <td>0.10</td>\n",
       "      <td>0.51</td>\n",
       "      <td>0.50</td>\n",
       "      <td>0.34</td>\n",
       "      <td>...</td>\n",
       "      <td>0.19</td>\n",
       "      <td>0.30</td>\n",
       "      <td>0.73</td>\n",
       "      <td>0.64</td>\n",
       "      <td>0.65</td>\n",
       "      <td>0.02</td>\n",
       "      <td>0.39</td>\n",
       "      <td>0.28</td>\n",
       "      <td>0.00</td>\n",
       "      <td>0.12</td>\n",
       "    </tr>\n",
       "    <tr>\n",
       "      <th>4</th>\n",
       "      <td>1</td>\n",
       "      <td>0.01</td>\n",
       "      <td>0.55</td>\n",
       "      <td>0.02</td>\n",
       "      <td>0.95</td>\n",
       "      <td>0.09</td>\n",
       "      <td>0.05</td>\n",
       "      <td>0.38</td>\n",
       "      <td>0.38</td>\n",
       "      <td>0.23</td>\n",
       "      <td>...</td>\n",
       "      <td>0.11</td>\n",
       "      <td>0.72</td>\n",
       "      <td>0.64</td>\n",
       "      <td>0.61</td>\n",
       "      <td>0.53</td>\n",
       "      <td>0.04</td>\n",
       "      <td>0.09</td>\n",
       "      <td>0.02</td>\n",
       "      <td>0.00</td>\n",
       "      <td>0.03</td>\n",
       "    </tr>\n",
       "  </tbody>\n",
       "</table>\n",
       "<p>5 rows × 102 columns</p>\n",
       "</div>"
      ],
      "text/plain": [
       "   fold  population  householdsize  racepctblack  racePctWhite  racePctAsian  \\\n",
       "0     1        0.19           0.33          0.02          0.90          0.12   \n",
       "1     1        0.00           0.16          0.12          0.74          0.45   \n",
       "2     1        0.00           0.42          0.49          0.56          0.17   \n",
       "3     1        0.04           0.77          1.00          0.08          0.12   \n",
       "4     1        0.01           0.55          0.02          0.95          0.09   \n",
       "\n",
       "   racePctHisp  agePct12t21  agePct12t29  agePct16t24  ...  PctForeignBorn  \\\n",
       "0         0.17         0.34         0.47         0.29  ...            0.12   \n",
       "1         0.07         0.26         0.59         0.35  ...            0.21   \n",
       "2         0.04         0.39         0.47         0.28  ...            0.14   \n",
       "3         0.10         0.51         0.50         0.34  ...            0.19   \n",
       "4         0.05         0.38         0.38         0.23  ...            0.11   \n",
       "\n",
       "   PctBornSameState  PctSameHouse85  PctSameCity85  PctSameState85  LandArea  \\\n",
       "0              0.42            0.50           0.51            0.64      0.12   \n",
       "1              0.50            0.34           0.60            0.52      0.02   \n",
       "2              0.49            0.54           0.67            0.56      0.01   \n",
       "3              0.30            0.73           0.64            0.65      0.02   \n",
       "4              0.72            0.64           0.61            0.53      0.04   \n",
       "\n",
       "   PopDens  PctUsePubTrans  LemasPctOfficDrugUn  ViolentCrimesPerPop  \n",
       "0     0.26            0.20                 0.32                 0.20  \n",
       "1     0.12            0.45                 0.00                 0.67  \n",
       "2     0.21            0.02                 0.00                 0.43  \n",
       "3     0.39            0.28                 0.00                 0.12  \n",
       "4     0.09            0.02                 0.00                 0.03  \n",
       "\n",
       "[5 rows x 102 columns]"
      ]
     },
     "execution_count": 27,
     "metadata": {},
     "output_type": "execute_result"
    }
   ],
   "source": [
    "CRIME_FILE=CRIME_FILE.drop(['state','county','community','communityname'], axis=1)\n",
    "CRIME_FILE.fillna(CRIME_FILE.median())\n",
    "CRIME_FILE = CRIME_FILE.replace(['?'],np.nan)\n",
    "#rowstodrop=[]\n",
    "#for i in range(len(CRIME_FILE.index)):\n",
    "#    nullpercentageinrow=CRIME_FILE.iloc[i].isnull().sum()/CRIME_FILE.shape[1]\n",
    "#    if nullpercentageinrow>0.20:\n",
    "#     rowstodrop.append(i)\n",
    "#CRIME_FILE=CRIME_FILE.drop(rowstodrop, axis=0)\n",
    "percentagenull={}\n",
    "for i in CRIME_FILE.columns:\n",
    " percentagenull[i]=CRIME_FILE[i].isnull().sum()/CRIME_FILE.shape[0]\n",
    "columnstodrop=[]\n",
    "for x in percentagenull:\n",
    "  currentvalue=percentagenull[x]\n",
    "  if currentvalue>0.6:\n",
    "    columnstodrop.append(x)\n",
    "print(columnstodrop)\n",
    "CRIME_FILE=CRIME_FILE.drop(columnstodrop, axis=1)\n",
    "rowstodrop=[]\n",
    "for i in range(len(CRIME_FILE.index)):\n",
    "    nullpercentageinrow=CRIME_FILE.iloc[i].isnull().sum()/CRIME_FILE.shape[1]\n",
    "    if nullpercentageinrow>0.20:\n",
    "     rowstodrop.append(i)\n",
    "CRIME_FILE=CRIME_FILE.drop(rowstodrop, axis=0)\n",
    "CRIME_FILE.head()"
   ]
  },
  {
   "cell_type": "code",
   "execution_count": 28,
   "id": "4c974d20",
   "metadata": {},
   "outputs": [
    {
     "name": "stdout",
     "output_type": "stream",
     "text": [
      "float64\n"
     ]
    }
   ],
   "source": [
    "CRIME_FILE['OtherPerCap'] = pd.to_numeric(CRIME_FILE['OtherPerCap'])\n",
    "datatypes = CRIME_FILE.dtypes['OtherPerCap']\n",
    "print(datatypes)"
   ]
  },
  {
   "cell_type": "code",
   "execution_count": 29,
   "id": "64411cc8",
   "metadata": {},
   "outputs": [],
   "source": [
    "nonnumericcolumns = []\n",
    "numericcolumns = []\n",
    "for i in CRIME_FILE.columns:\n",
    "    if CRIME_FILE[i].map(type).eq(str).any():\n",
    "        nonnumericcolumns.append(i)\n",
    "    else:\n",
    "        numericcolumns.append(i)\n",
    "CRIME_FILENumeric = CRIME_FILE[numericcolumns]\n",
    "CRIME_FILENonNumeric = pd.DataFrame(CRIME_FILE[nonnumericcolumns])\n",
    "from sklearn.impute import SimpleImputer\n",
    "imp1=SimpleImputer(missing_values=np.nan,strategy='median')\n",
    "CRIME_FILENumeric = pd.DataFrame(imp1.fit_transform(CRIME_FILENumeric),columns=CRIME_FILENumeric.columns,index=CRIME_FILENumeric.index) \n",
    "CRIME_FILENonNumeric.replace(np.nan,'Unknown')\n",
    "CRIME_FILE1 = pd.concat([CRIME_FILENumeric, CRIME_FILENonNumeric],axis=1)"
   ]
  },
  {
   "cell_type": "code",
   "execution_count": 30,
   "id": "7b8420a6",
   "metadata": {},
   "outputs": [
    {
     "name": "stdout",
     "output_type": "stream",
     "text": [
      "[]\n"
     ]
    }
   ],
   "source": [
    "print(nonnumericcolumns)"
   ]
  },
  {
   "cell_type": "code",
   "execution_count": 31,
   "id": "1dcf0da8",
   "metadata": {},
   "outputs": [],
   "source": [
    "shuffle3 = ShuffleSplit(n_splits=1,test_size=0.2, random_state=23784559)\n",
    "shuffle4 = ShuffleSplit(n_splits=5,test_size=0.25, random_state=23784559)"
   ]
  },
  {
   "cell_type": "code",
   "execution_count": 32,
   "id": "d2367cf1",
   "metadata": {},
   "outputs": [
    {
     "name": "stdout",
     "output_type": "stream",
     "text": [
      "['fold', 'population', 'householdsize', 'racepctblack', 'racePctWhite', 'racePctAsian', 'racePctHisp', 'agePct12t21', 'agePct12t29', 'agePct16t24', 'agePct65up', 'numbUrban', 'pctUrban', 'medIncome', 'pctWWage', 'pctWFarmSelf', 'pctWInvInc', 'pctWSocSec', 'pctWPubAsst', 'pctWRetire', 'medFamInc', 'perCapInc', 'whitePerCap', 'blackPerCap', 'indianPerCap', 'AsianPerCap', 'OtherPerCap', 'HispPerCap', 'NumUnderPov', 'PctPopUnderPov', 'PctLess9thGrade', 'PctNotHSGrad', 'PctBSorMore', 'PctUnemployed', 'PctEmploy', 'PctEmplManu', 'PctEmplProfServ', 'PctOccupManu', 'PctOccupMgmtProf', 'MalePctDivorce', 'MalePctNevMarr', 'FemalePctDiv', 'TotalPctDiv', 'PersPerFam', 'PctFam2Par', 'PctKids2Par', 'PctYoungKids2Par', 'PctTeen2Par', 'PctWorkMomYoungKids', 'PctWorkMom', 'NumIlleg', 'PctIlleg', 'NumImmig', 'PctImmigRecent', 'PctImmigRec5', 'PctImmigRec8', 'PctImmigRec10', 'PctRecentImmig', 'PctRecImmig5', 'PctRecImmig8', 'PctRecImmig10', 'PctSpeakEnglOnly', 'PctNotSpeakEnglWell', 'PctLargHouseFam', 'PctLargHouseOccup', 'PersPerOccupHous', 'PersPerOwnOccHous', 'PersPerRentOccHous', 'PctPersOwnOccup', 'PctPersDenseHous', 'PctHousLess3BR', 'MedNumBR', 'HousVacant', 'PctHousOccup', 'PctHousOwnOcc', 'PctVacantBoarded', 'PctVacMore6Mos', 'MedYrHousBuilt', 'PctHousNoPhone', 'PctWOFullPlumb', 'OwnOccLowQuart', 'OwnOccMedVal', 'OwnOccHiQuart', 'RentLowQ', 'RentMedian', 'RentHighQ', 'MedRent', 'MedRentPctHousInc', 'MedOwnCostPctInc', 'MedOwnCostPctIncNoMtg', 'NumInShelters', 'NumStreet', 'PctForeignBorn', 'PctBornSameState', 'PctSameHouse85', 'PctSameCity85', 'PctSameState85', 'LandArea', 'PopDens', 'PctUsePubTrans', 'LemasPctOfficDrugUn', 'ViolentCrimesPerPop']\n"
     ]
    }
   ],
   "source": [
    "print(CRIME_FILE1.columns.tolist())"
   ]
  },
  {
   "cell_type": "code",
   "execution_count": 33,
   "id": "1a336751",
   "metadata": {},
   "outputs": [],
   "source": [
    "originalcolumns=CRIME_FILE1.columns.tolist()"
   ]
  },
  {
   "cell_type": "code",
   "execution_count": 34,
   "id": "5d6d0dad",
   "metadata": {},
   "outputs": [],
   "source": [
    "CRIME_FILE1 = pd.get_dummies(CRIME_FILE1, columns=nonnumericcolumns, drop_first=False)"
   ]
  },
  {
   "cell_type": "code",
   "execution_count": 35,
   "id": "252d4300",
   "metadata": {},
   "outputs": [
    {
     "name": "stdout",
     "output_type": "stream",
     "text": [
      "['fold', 'population', 'householdsize', 'racepctblack', 'racePctWhite', 'racePctAsian', 'racePctHisp', 'agePct12t21', 'agePct12t29', 'agePct16t24', 'agePct65up', 'numbUrban', 'pctUrban', 'medIncome', 'pctWWage', 'pctWFarmSelf', 'pctWInvInc', 'pctWSocSec', 'pctWPubAsst', 'pctWRetire', 'medFamInc', 'perCapInc', 'whitePerCap', 'blackPerCap', 'indianPerCap', 'AsianPerCap', 'OtherPerCap', 'HispPerCap', 'NumUnderPov', 'PctPopUnderPov', 'PctLess9thGrade', 'PctNotHSGrad', 'PctBSorMore', 'PctUnemployed', 'PctEmploy', 'PctEmplManu', 'PctEmplProfServ', 'PctOccupManu', 'PctOccupMgmtProf', 'MalePctDivorce', 'MalePctNevMarr', 'FemalePctDiv', 'TotalPctDiv', 'PersPerFam', 'PctFam2Par', 'PctKids2Par', 'PctYoungKids2Par', 'PctTeen2Par', 'PctWorkMomYoungKids', 'PctWorkMom', 'NumIlleg', 'PctIlleg', 'NumImmig', 'PctImmigRecent', 'PctImmigRec5', 'PctImmigRec8', 'PctImmigRec10', 'PctRecentImmig', 'PctRecImmig5', 'PctRecImmig8', 'PctRecImmig10', 'PctSpeakEnglOnly', 'PctNotSpeakEnglWell', 'PctLargHouseFam', 'PctLargHouseOccup', 'PersPerOccupHous', 'PersPerOwnOccHous', 'PersPerRentOccHous', 'PctPersOwnOccup', 'PctPersDenseHous', 'PctHousLess3BR', 'MedNumBR', 'HousVacant', 'PctHousOccup', 'PctHousOwnOcc', 'PctVacantBoarded', 'PctVacMore6Mos', 'MedYrHousBuilt', 'PctHousNoPhone', 'PctWOFullPlumb', 'OwnOccLowQuart', 'OwnOccMedVal', 'OwnOccHiQuart', 'RentLowQ', 'RentMedian', 'RentHighQ', 'MedRent', 'MedRentPctHousInc', 'MedOwnCostPctInc', 'MedOwnCostPctIncNoMtg', 'NumInShelters', 'NumStreet', 'PctForeignBorn', 'PctBornSameState', 'PctSameHouse85', 'PctSameCity85', 'PctSameState85', 'LandArea', 'PopDens', 'PctUsePubTrans', 'LemasPctOfficDrugUn', 'ViolentCrimesPerPop']\n"
     ]
    }
   ],
   "source": [
    "print(CRIME_FILE1.columns.tolist())"
   ]
  },
  {
   "cell_type": "code",
   "execution_count": 36,
   "id": "2113134b",
   "metadata": {},
   "outputs": [],
   "source": [
    "calledcol1=CRIME_FILE1.columns.tolist()\n",
    "calledcol1.remove('ViolentCrimesPerPop')"
   ]
  },
  {
   "cell_type": "code",
   "execution_count": 37,
   "id": "934fdeb4",
   "metadata": {},
   "outputs": [],
   "source": [
    "X1 = CRIME_FILE1[calledcol1]\n",
    "y1=CRIME_FILE1['ViolentCrimesPerPop']\n",
    "train1, test1 = next(shuffle3.split(X=X1,y=y1))\n",
    "X_test1 = X1.loc[test1]\n",
    "y_test1 = y1.loc[test1]\n",
    "X_train1 = X1.loc[train1]\n",
    "y_train1 = y1.loc[train1]\n",
    "X_train01=X_train1\n",
    "y_train01=y_train1\n",
    "X_test01=X_test1\n",
    "y_test01=y_test1\n",
    "train1, val1 = next(shuffle4.split(X=X_train1,y=y_train1))\n",
    "X_train1 = X1.loc[train1]\n",
    "y_train1 = y1.loc[train1]\n",
    "X_val1 = X1.loc[val1]\n",
    "y_val1 = y1.loc[val1]"
   ]
  },
  {
   "cell_type": "code",
   "execution_count": 38,
   "id": "def88d16",
   "metadata": {},
   "outputs": [
    {
     "data": {
      "text/plain": [
       "array([[-1.22022424,  0.14045345, -0.08639144, ..., -0.24214236,\n",
       "        -0.51570649, -0.4019346 ],\n",
       "       [-0.52370139,  0.95586375,  0.66705525, ..., -0.34476031,\n",
       "        -0.37831485,  0.56659226],\n",
       "       [-1.22022424, -0.37844401,  0.66705525, ..., -1.011777  ,\n",
       "        -0.42411206, -0.4019346 ],\n",
       "       ...,\n",
       "       [-0.87196282,  0.36283808,  0.35311913, ..., -0.54999621,\n",
       "        -0.2409232 ,  3.63359399],\n",
       "       [ 0.86934431, -0.45257222, -1.02819981, ..., -0.39606929,\n",
       "        -0.69889536, -0.4019346 ],\n",
       "       [ 1.21760573, -0.2301876 , -0.71426369, ...,  0.21963842,\n",
       "        -0.28672041, -0.4019346 ]])"
      ]
     },
     "execution_count": 38,
     "metadata": {},
     "output_type": "execute_result"
    }
   ],
   "source": [
    "from sklearn import preprocessing\n",
    "X_train1 = preprocessing.scale(X_train1)\n",
    "X_test1 = preprocessing.scale(X_test1)\n",
    "X_val1 = preprocessing.scale(X_val1)\n",
    "sc1 = StandardScaler()\n",
    "sc1.fit(X_train1)\n",
    "sc1.transform(X_test1)\n",
    "sc1.transform(X_val1)\n",
    "X_train01 = preprocessing.scale(X_train01)\n",
    "X_test01 = preprocessing.scale(X_test01)\n",
    "sc2 = StandardScaler()\n",
    "sc2.fit_transform(X_train01)\n",
    "sc2.transform(X_test01)\n"
   ]
  },
  {
   "cell_type": "code",
   "execution_count": 39,
   "id": "bd69db89",
   "metadata": {},
   "outputs": [],
   "source": [
    "#peformance metric functions\n",
    "from sklearn.metrics import mean_absolute_error,mean_squared_error,r2_score\n",
    "import numpy as np\n",
    "\n",
    "#A list of keys for the dictionary returned by p1_metrics\n",
    "metric_keys = ['mse','mae','r2']\n",
    "\n",
    "def p2_metrics(y_true,y_pred,negation=False):\n",
    "    if negation:\n",
    "        sign = -1\n",
    "    else:\n",
    "        sign = 1\n",
    "    return {\n",
    "        'mse': sign*mean_squared_error(y_true,y_pred),\n",
    "        'mae': sign*mean_absolute_error(y_true,y_pred),\n",
    "        'r2': sign*r2_score(y_true,y_pred)}\n",
    "\n",
    "#This wrapper can be used to return multiple performance metrics during cross-validation\n",
    "def p2_metrics_scorer(clf,X,y_true):\n",
    "    y_pred=clf.predict(X)\n",
    "    return p2_metrics(y_true,y_pred,negation=True)"
   ]
  },
  {
   "cell_type": "markdown",
   "id": "2d8c4474",
   "metadata": {},
   "source": [
    "## 2.2 Linear Regression"
   ]
  },
  {
   "cell_type": "markdown",
   "id": "b802a9fb",
   "metadata": {},
   "source": [
    "1. Construct a linear model using Scikit-learn's `LinearRegression` method with default parameters.\n",
    "2. Report the following performance metrics on the **training and validation sets**:\n",
    "    *Mean Squared Error*, *Mean Absolute Error*, and the *Coefficient of Determination ($r^2$)*.\n",
    "    \n",
    "    You can use the function `p2_metrics` for this purpose. Is this model underfitting the data? Is so, why?\n",
    "3. Report the weights (coefficients) of the linear model and their associated features in ascending order.\n",
    "\n",
    "    Larger weights indicate that their corresponding features have more influence in the model. Moreover, negative weights correspond to variables having negative correlation with the response variable, and vice versa.\n",
    "    \n",
    "    Using this interpretation, describe the most significant features and their correlation."
   ]
  },
  {
   "cell_type": "code",
   "execution_count": 40,
   "id": "3a33554c",
   "metadata": {},
   "outputs": [
    {
     "data": {
      "text/plain": [
       "{'mse': 0.018901500832311704,\n",
       " 'mae': 0.09655686353902379,\n",
       " 'r2': 0.6545944836863855}"
      ]
     },
     "execution_count": 40,
     "metadata": {},
     "output_type": "execute_result"
    }
   ],
   "source": [
    "from sklearn.linear_model import LinearRegression\n",
    "linreg1 = LinearRegression()\n",
    "linreg1.fit(X_train1,y_train1)\n",
    "linregpred=linreg1.predict(X_val1)\n",
    "p2_metrics(y_val1,linregpred,negation=False)"
   ]
  },
  {
   "cell_type": "code",
   "execution_count": 41,
   "id": "e019a897",
   "metadata": {},
   "outputs": [
    {
     "name": "stdout",
     "output_type": "stream",
     "text": [
      "While the mean squared and absolute errors are fairly minimal,and the coefficient of determination is much higher at 65% ever since I dropped some columns and changed the datatype of otherpercap. Needs more fine tuning.\n"
     ]
    }
   ],
   "source": [
    "print(\"While the mean squared and absolute errors are fairly minimal,and the coefficient of determination is much higher at 65% ever since I dropped some columns and changed the datatype of otherpercap. Needs more fine tuning.\")"
   ]
  },
  {
   "cell_type": "code",
   "execution_count": 42,
   "id": "da88041d",
   "metadata": {},
   "outputs": [
    {
     "name": "stdout",
     "output_type": "stream",
     "text": [
      "The top 10 weights without removing dummies are are  {'PctHousOwnOcc': 0.18866769913792636, 'PctRecImmig10': 0.09366262142680656, 'OwnOccMedVal': 0.07962872871668798, 'PctPersDenseHous': 0.0756316443108043, 'MalePctDivorce': 0.06407112488679172, 'medFamInc': 0.06156073872190545, 'PersPerOccupHous': 0.06079410143003777, 'PctEmploy': 0.05475050666339128, 'MedRent': 0.05204945088351254, 'racepctblack': 0.048923732382330665}\n"
     ]
    }
   ],
   "source": [
    "from operator import itemgetter\n",
    "from heapq import nlargest\n",
    "coefficient=linreg1.coef_.tolist()\n",
    "#columns1=CRIME_FILE1.columns.tolist()\n",
    "linregdict={}\n",
    "originalcolumns1=originalcolumns\n",
    "originalcolumns1.remove('ViolentCrimesPerPop')\n",
    "for key in originalcolumns1:\n",
    "    for value in coefficient:\n",
    "        linregdict[key] = value\n",
    "        coefficient.remove(value)\n",
    "        break\n",
    "dict2 =dict(sorted(linregdict.items(), key = itemgetter(1), reverse = True)[:10])\n",
    "print(\"The top 10 weights without removing dummies are are  \" + str(dict2))"
   ]
  },
  {
   "cell_type": "code",
   "execution_count": 43,
   "id": "3284701e",
   "metadata": {},
   "outputs": [
    {
     "name": "stdout",
     "output_type": "stream",
     "text": [
      "{'fold': -0.006461756852998491, 'population': 0.02741395137213775, 'householdsize': -0.005063203669380147, 'racepctblack': 0.048923732382330665, 'racePctWhite': -0.014510663483528374, 'racePctAsian': -0.014397507891167179, 'racePctHisp': -0.012734299893115754, 'agePct12t21': 0.018451650597849468, 'agePct12t29': -0.03329529922462407, 'agePct16t24': -0.014400347958176615, 'agePct65up': 0.015467960720988447, 'numbUrban': -0.04215828969475052, 'pctUrban': 0.021908017521516016, 'medIncome': -0.027371215552670046, 'pctWWage': -0.04542882252846586, 'pctWFarmSelf': 0.011829497813466979, 'pctWInvInc': -0.029732398058560146, 'pctWSocSec': -0.003266788654959822, 'pctWPubAsst': 0.021810550118562005, 'pctWRetire': -0.01636497696327151, 'medFamInc': 0.06156073872190545, 'perCapInc': -0.008166851405606738, 'whitePerCap': -0.04037145610031188, 'blackPerCap': -0.005965769517067427, 'indianPerCap': -0.006477699104031574, 'AsianPerCap': 0.01157778969611019, 'OtherPerCap': 0.007400106612009462, 'HispPerCap': -0.0004347485438737811, 'NumUnderPov': 0.039453631264075396, 'PctPopUnderPov': -0.04387465777808047, 'PctLess9thGrade': -0.029107563374679547, 'PctNotHSGrad': 0.024833517232788534, 'PctBSorMore': 0.01299627048778291, 'PctUnemployed': -0.01199264508060434, 'PctEmploy': 0.05475050666339128, 'PctEmplManu': -0.011612725174920275, 'PctEmplProfServ': -0.0020147554939022923, 'PctOccupManu': 0.013758335599827146, 'PctOccupMgmtProf': 0.018353941905996513, 'MalePctDivorce': 0.06407112488679172, 'MalePctNevMarr': 0.038583655228649885, 'FemalePctDiv': -0.0008130302517022573, 'TotalPctDiv': -0.05272211451987405, 'PersPerFam': -0.02952054351730086, 'PctFam2Par': 0.015309696261531908, 'PctKids2Par': -0.058206522628061266, 'PctYoungKids2Par': -0.011404968806448574, 'PctTeen2Par': -0.002708542256347887, 'PctWorkMomYoungKids': -0.00023177334731618385, 'PctWorkMom': -0.026710901853978092, 'NumIlleg': -0.033239291748831015, 'PctIlleg': 0.02869906394887859, 'NumImmig': -0.017523845778082036, 'PctImmigRecent': 0.001033547666775898, 'PctImmigRec5': -0.010967939061237478, 'PctImmigRec8': 0.04361805876544977, 'PctImmigRec10': -0.03377898190370543, 'PctRecentImmig': 0.008415980983105465, 'PctRecImmig5': -0.027024497265636098, 'PctRecImmig8': -0.06699788065314706, 'PctRecImmig10': 0.09366262142680656, 'PctSpeakEnglOnly': -0.023236798795871556, 'PctNotSpeakEnglWell': -0.04393012351381247, 'PctLargHouseFam': 0.026466167235786296, 'PctLargHouseOccup': -0.06056329025347705, 'PersPerOccupHous': 0.06079410143003777, 'PersPerOwnOccHous': 0.03295794050284203, 'PersPerRentOccHous': -0.04558730778275803, 'PctPersOwnOccup': -0.2093758321567782, 'PctPersDenseHous': 0.0756316443108043, 'PctHousLess3BR': 0.018090308366986704, 'MedNumBR': 0.006852813896257536, 'HousVacant': 0.021725839961749652, 'PctHousOccup': -0.01030959474253486, 'PctHousOwnOcc': 0.18866769913792636, 'PctVacantBoarded': 0.017434879581705233, 'PctVacMore6Mos': -0.013254207583405333, 'MedYrHousBuilt': -0.008834584909315064, 'PctHousNoPhone': 0.007986737649284183, 'PctWOFullPlumb': -0.009119745504807184, 'OwnOccLowQuart': -0.08610112220344422, 'OwnOccMedVal': 0.07962872871668798, 'OwnOccHiQuart': -0.018640787696439724, 'RentLowQ': -0.03630989973608824, 'RentMedian': 0.003679772487064654, 'RentHighQ': -0.007456553330224096, 'MedRent': 0.05204945088351254, 'MedRentPctHousInc': 0.012950599003790053, 'MedOwnCostPctInc': -0.011143975333953544, 'MedOwnCostPctIncNoMtg': -0.013938508786994272, 'NumInShelters': 0.01169887367369536, 'NumStreet': 0.01636990902049699, 'PctForeignBorn': 0.0221188350421581, 'PctBornSameState': -0.006011459783125422, 'PctSameHouse85': -0.007127901496763108, 'PctSameCity85': 0.009999643752825057, 'PctSameState85': 0.0035252293010246943, 'LandArea': 0.001647110120691444, 'PopDens': 0.0032445837267145398, 'PctUsePubTrans': -0.011679184665648525, 'LemasPctOfficDrugUn': -0.0011094316611194519}\n"
     ]
    }
   ],
   "source": [
    "dictwithnodummies={}\n",
    "for i in calledcol1:\n",
    " dictwithnodummies[i]=0\n",
    "for keys in dictwithnodummies:\n",
    " keywith_=keys+'_'\n",
    " for keys2 in linregdict:\n",
    "  if keys==keys2 or keywith_ in keys2:\n",
    "    dictwithnodummies[keys]=dictwithnodummies[keys]+linregdict[keys2]\n",
    "  \n",
    "print(dictwithnodummies)"
   ]
  },
  {
   "cell_type": "code",
   "execution_count": 44,
   "id": "b15fd86d",
   "metadata": {},
   "outputs": [
    {
     "name": "stdout",
     "output_type": "stream",
     "text": [
      "The top 10 weights with no dummies are are  {'PctHousOwnOcc': 0.18866769913792636, 'PctRecImmig10': 0.09366262142680656, 'OwnOccMedVal': 0.07962872871668798, 'PctPersDenseHous': 0.0756316443108043, 'MalePctDivorce': 0.06407112488679172, 'medFamInc': 0.06156073872190545, 'PersPerOccupHous': 0.06079410143003777, 'PctEmploy': 0.05475050666339128, 'MedRent': 0.05204945088351254, 'racepctblack': 0.048923732382330665}\n"
     ]
    }
   ],
   "source": [
    "dict3 =dict(sorted(dictwithnodummies.items(), key = itemgetter(1), reverse = True)[:10])\n",
    "print(\"The top 10 weights with no dummies are are  \" + str(dict3))"
   ]
  },
  {
   "cell_type": "code",
   "execution_count": 71,
   "id": "9cf519ef",
   "metadata": {},
   "outputs": [
    {
     "name": "stdout",
     "output_type": "stream",
     "text": [
      "Percentage of house ownage, recent immigrants,owner occupied housing, dense housing, male divorce, family income,persons per occupied house, percent employed, median rent, and black percentage are the most weighing factors. This indicates unstable working class urban (often black) neighborhoods are more likely to suffer from criminal violence\n"
     ]
    }
   ],
   "source": [
    "print('Percentage of house ownage, recent immigrants,owner occupied housing, dense housing, male divorce, family income,persons per occupied house, percent employed, median rent, and black percentage are the most weighing factors. This indicates unstable working class urban (often black) neighborhoods are more likely to suffer from criminal violence')"
   ]
  },
  {
   "cell_type": "markdown",
   "id": "b0d09ba6",
   "metadata": {},
   "source": [
    "## 2.3 Linear Regression and PCA"
   ]
  },
  {
   "cell_type": "markdown",
   "id": "8a71808a",
   "metadata": {},
   "source": [
    "1. Perform principal component analysis on the **training data**. You may use Scikit-learn's `PCA` function for this, which **automatically centers** the data prior to PCA. Using PCA, *choose the number of components* for which the total explained variance is $\\ge 99\\%$, and report this.\n",
    "2. After determining the correct number of components, apply the PCA transformation to the **validation** and **test** sets.\n",
    "3. Create another model via `LinearRegression` but using the data transformed by PCA\n",
    "Construct a linear model using Scikit-learn's `LinearRegression` method with default parameters.\n",
    "4. Report the same performance metrics as in 2.2 on the **validation set**. How does the model's performance compare to that of the model in 2.2?"
   ]
  },
  {
   "cell_type": "code",
   "execution_count": 46,
   "id": "718dc105",
   "metadata": {},
   "outputs": [
    {
     "name": "stdout",
     "output_type": "stream",
     "text": [
      "[0.25141002 0.16497225 0.09072742 0.07713245 0.05585833 0.0424866\n",
      " 0.03224834 0.0287883  0.0195094  0.01622421 0.01498992 0.01358352\n",
      " 0.01311459 0.01031494 0.00994708 0.00966085 0.00884922 0.00811868\n",
      " 0.00752093 0.00700255 0.00646439 0.00624851 0.00597828 0.00555308\n",
      " 0.00507561 0.00496894 0.00468182 0.00446005 0.00431922 0.0040738\n",
      " 0.00379551 0.00360955 0.00342751 0.00321533 0.00298983 0.00275141\n",
      " 0.00260985 0.00257168 0.00245049 0.00240453 0.00225618 0.00213908\n",
      " 0.00199885 0.00191174 0.00182847 0.00173963 0.00162164 0.00157147\n",
      " 0.0014008  0.00133028 0.00120966 0.00113316 0.0010616  0.00099929\n",
      " 0.00092709 0.00082011 0.00073408 0.00071115 0.0006921 ]\n",
      "[0.25141002 0.41638226 0.50710968 0.58424212 0.64010045 0.68258705\n",
      " 0.71483539 0.74362369 0.76313309 0.7793573  0.79434722 0.80793074\n",
      " 0.82104534 0.83136028 0.84130735 0.8509682  0.85981742 0.8679361\n",
      " 0.87545703 0.88245958 0.88892397 0.89517248 0.90115076 0.90670383\n",
      " 0.91177944 0.91674838 0.92143019 0.92589025 0.93020947 0.93428327\n",
      " 0.93807879 0.94168834 0.94511585 0.94833118 0.95132101 0.95407242\n",
      " 0.95668227 0.95925395 0.96170444 0.96410897 0.96636515 0.96850423\n",
      " 0.97050308 0.97241481 0.97424329 0.97598291 0.97760455 0.97917602\n",
      " 0.98057682 0.98190709 0.98311676 0.98424991 0.98531151 0.9863108\n",
      " 0.98723789 0.988058   0.98879208 0.98950324 0.99019533]\n",
      "Number of components needed  59\n"
     ]
    }
   ],
   "source": [
    "from sklearn.decomposition import PCA\n",
    "pca1 = PCA(n_components=0.99)\n",
    "pca1.fit(X_train1)\n",
    "crimerowtrain =X_train1.shape[0]\n",
    "crimecolumntrain =X_train1.shape[1]\n",
    "print(pca1.explained_variance_ratio_)\n",
    "cumarray=np.cumsum(pca1.explained_variance_ratio_)\n",
    "print(cumarray)\n",
    "cumindex=0\n",
    "while(cumindex<len(cumarray)):\n",
    " if(cumarray[cumindex]>=0.99): \n",
    "    break\n",
    " cumindex=cumindex+1\n",
    "cumindex\n",
    "cumindex=cumindex+1\n",
    "print(\"Number of components needed \",cumindex)"
   ]
  },
  {
   "cell_type": "code",
   "execution_count": 47,
   "id": "e1ce84af",
   "metadata": {},
   "outputs": [
    {
     "data": {
      "image/png": "[encoded data removed]",
      "text/plain": [
       "<Figure size 1440x720 with 1 Axes>"
      ]
     },
     "metadata": {
      "needs_background": "light"
     },
     "output_type": "display_data"
    }
   ],
   "source": [
    "import matplotlib.pyplot as plt\n",
    "plt.rcParams[\"figure.figsize\"] = (20,10)\n",
    "fig, ax = plt.subplots()\n",
    "xi = np.arange(1,cumindex+1, step=1)\n",
    "y = np.cumsum(pca1.explained_variance_ratio_)\n",
    "plt.ylim(0.0,1)\n",
    "plt.plot(xi, y, marker='o', linestyle='--', color='b')\n",
    "plt.xlabel('Components')\n",
    "plt.xticks(np.arange(1,cumindex+1, step=1))\n",
    "plt.ylabel('Variation as a Cumulative')\n",
    "plt.title('Components needed for variance')\n",
    "plt.axhline(y=0.99, color='y', linestyle='-')\n",
    "plt.text(0.7, 0.9, 'Line represents components to cumulative variance', color = 'blue', fontsize=20)\n",
    "ax.grid(axis='x')\n",
    "plt.show()"
   ]
  },
  {
   "cell_type": "code",
   "execution_count": 48,
   "id": "52e7a04f",
   "metadata": {},
   "outputs": [
    {
     "data": {
      "text/plain": [
       "array([[ 1.11862888e+00,  2.16119509e+00,  6.64774007e+00, ...,\n",
       "         3.65065825e-03,  2.19446432e-01,  3.45944755e-01],\n",
       "       [-1.31363264e+00,  1.46435606e+00,  1.04246928e+00, ...,\n",
       "        -3.65117289e-02, -5.75466689e-02,  3.00003607e-01],\n",
       "       [-2.71253072e-01, -4.12775917e+00, -8.84526660e-01, ...,\n",
       "        -7.43516408e-02, -9.21447944e-02,  1.36536205e-01],\n",
       "       ...,\n",
       "       [-1.00394750e+01,  3.20818506e+00,  4.05408025e+00, ...,\n",
       "         6.31096851e-01,  2.05447647e-01,  6.27241703e-03],\n",
       "       [ 9.54530464e-01,  5.06563105e+00,  3.84077929e-02, ...,\n",
       "         3.06816313e-01, -3.16159178e-02,  2.29154350e-01],\n",
       "       [-4.63053011e+00, -3.28033306e+00,  3.24713130e-01, ...,\n",
       "        -2.86575814e-01,  3.97923386e-01, -6.02250092e-01]])"
      ]
     },
     "execution_count": 48,
     "metadata": {},
     "output_type": "execute_result"
    }
   ],
   "source": [
    "pca1=PCA(n_components=cumindex)\n",
    "pca1.fit(X_train1)\n",
    "pca1.transform(X_test1)\n",
    "pca1.transform(X_val1)"
   ]
  },
  {
   "cell_type": "code",
   "execution_count": 49,
   "id": "55df40c9",
   "metadata": {},
   "outputs": [
    {
     "data": {
      "text/plain": [
       "{'mse': 0.018901500832311704,\n",
       " 'mae': 0.09655686353902379,\n",
       " 'r2': 0.6545944836863855}"
      ]
     },
     "execution_count": 49,
     "metadata": {},
     "output_type": "execute_result"
    }
   ],
   "source": [
    "linreg2 = LinearRegression()\n",
    "linreg2.fit(X_train1,y_train1)\n",
    "linregpred2=linreg2.predict(X_val1)\n",
    "p2_metrics(y_val1,linregpred2,negation=False)"
   ]
  },
  {
   "cell_type": "code",
   "execution_count": 50,
   "id": "263b1c8f",
   "metadata": {},
   "outputs": [
    {
     "name": "stdout",
     "output_type": "stream",
     "text": [
      "{'fold': -0.006461756852998491, 'population': 0.02741395137213775, 'householdsize': -0.005063203669380147, 'racepctblack': 0.048923732382330665, 'racePctWhite': -0.014510663483528374, 'racePctAsian': -0.014397507891167179, 'racePctHisp': -0.012734299893115754, 'agePct12t21': 0.018451650597849468, 'agePct12t29': -0.03329529922462407, 'agePct16t24': -0.014400347958176615, 'agePct65up': 0.015467960720988447, 'numbUrban': -0.04215828969475052, 'pctUrban': 0.021908017521516016, 'medIncome': -0.027371215552670046, 'pctWWage': -0.04542882252846586, 'pctWFarmSelf': 0.011829497813466979, 'pctWInvInc': -0.029732398058560146, 'pctWSocSec': -0.003266788654959822, 'pctWPubAsst': 0.021810550118562005, 'pctWRetire': -0.01636497696327151, 'medFamInc': 0.06156073872190545, 'perCapInc': -0.008166851405606738, 'whitePerCap': -0.04037145610031188, 'blackPerCap': -0.005965769517067427, 'indianPerCap': -0.006477699104031574, 'AsianPerCap': 0.01157778969611019, 'OtherPerCap': 0.007400106612009462, 'HispPerCap': -0.0004347485438737811, 'NumUnderPov': 0.039453631264075396, 'PctPopUnderPov': -0.04387465777808047, 'PctLess9thGrade': -0.029107563374679547, 'PctNotHSGrad': 0.024833517232788534, 'PctBSorMore': 0.01299627048778291, 'PctUnemployed': -0.01199264508060434, 'PctEmploy': 0.05475050666339128, 'PctEmplManu': -0.011612725174920275, 'PctEmplProfServ': -0.0020147554939022923, 'PctOccupManu': 0.013758335599827146, 'PctOccupMgmtProf': 0.018353941905996513, 'MalePctDivorce': 0.06407112488679172, 'MalePctNevMarr': 0.038583655228649885, 'FemalePctDiv': -0.0008130302517022573, 'TotalPctDiv': -0.05272211451987405, 'PersPerFam': -0.02952054351730086, 'PctFam2Par': 0.015309696261531908, 'PctKids2Par': -0.058206522628061266, 'PctYoungKids2Par': -0.011404968806448574, 'PctTeen2Par': -0.002708542256347887, 'PctWorkMomYoungKids': -0.00023177334731618385, 'PctWorkMom': -0.026710901853978092, 'NumIlleg': -0.033239291748831015, 'PctIlleg': 0.02869906394887859, 'NumImmig': -0.017523845778082036, 'PctImmigRecent': 0.001033547666775898, 'PctImmigRec5': -0.010967939061237478, 'PctImmigRec8': 0.04361805876544977, 'PctImmigRec10': -0.03377898190370543, 'PctRecentImmig': 0.008415980983105465, 'PctRecImmig5': -0.027024497265636098, 'PctRecImmig8': -0.06699788065314706, 'PctRecImmig10': 0.09366262142680656, 'PctSpeakEnglOnly': -0.023236798795871556, 'PctNotSpeakEnglWell': -0.04393012351381247, 'PctLargHouseFam': 0.026466167235786296, 'PctLargHouseOccup': -0.06056329025347705, 'PersPerOccupHous': 0.06079410143003777, 'PersPerOwnOccHous': 0.03295794050284203, 'PersPerRentOccHous': -0.04558730778275803, 'PctPersOwnOccup': -0.2093758321567782, 'PctPersDenseHous': 0.0756316443108043, 'PctHousLess3BR': 0.018090308366986704, 'MedNumBR': 0.006852813896257536, 'HousVacant': 0.021725839961749652, 'PctHousOccup': -0.01030959474253486, 'PctHousOwnOcc': 0.18866769913792636, 'PctVacantBoarded': 0.017434879581705233, 'PctVacMore6Mos': -0.013254207583405333, 'MedYrHousBuilt': -0.008834584909315064, 'PctHousNoPhone': 0.007986737649284183, 'PctWOFullPlumb': -0.009119745504807184, 'OwnOccLowQuart': -0.08610112220344422, 'OwnOccMedVal': 0.07962872871668798, 'OwnOccHiQuart': -0.018640787696439724, 'RentLowQ': -0.03630989973608824, 'RentMedian': 0.003679772487064654, 'RentHighQ': -0.007456553330224096, 'MedRent': 0.05204945088351254, 'MedRentPctHousInc': 0.012950599003790053, 'MedOwnCostPctInc': -0.011143975333953544, 'MedOwnCostPctIncNoMtg': -0.013938508786994272, 'NumInShelters': 0.01169887367369536, 'NumStreet': 0.01636990902049699, 'PctForeignBorn': 0.0221188350421581, 'PctBornSameState': -0.006011459783125422, 'PctSameHouse85': -0.007127901496763108, 'PctSameCity85': 0.009999643752825057, 'PctSameState85': 0.0035252293010246943, 'LandArea': 0.001647110120691444, 'PopDens': 0.0032445837267145398, 'PctUsePubTrans': -0.011679184665648525, 'LemasPctOfficDrugUn': -0.0011094316611194519}\n",
      " \n",
      "The top 10 weights with no dummies are are  {'PctHousOwnOcc': 0.18866769913792636, 'PctRecImmig10': 0.09366262142680656, 'OwnOccMedVal': 0.07962872871668798, 'PctPersDenseHous': 0.0756316443108043, 'MalePctDivorce': 0.06407112488679172, 'medFamInc': 0.06156073872190545, 'PersPerOccupHous': 0.06079410143003777, 'PctEmploy': 0.05475050666339128, 'MedRent': 0.05204945088351254, 'racepctblack': 0.048923732382330665}\n"
     ]
    }
   ],
   "source": [
    "coefficient2=linreg2.coef_.tolist()\n",
    "columns1=CRIME_FILE1.columns.tolist()\n",
    "linregdict2={}\n",
    "for key in columns1:\n",
    "    for value in coefficient2:\n",
    "        linregdict2[key] = value\n",
    "        coefficient2.remove(value)\n",
    "        break\n",
    "dictwithnodummies2={}\n",
    "for i in originalcolumns:\n",
    " dictwithnodummies2[i]=0\n",
    "for keys in dictwithnodummies2:\n",
    " keywith_=keys+'_'\n",
    " for keys2 in linregdict2:\n",
    "  if keys==keys2 or keywith_ in keys2:\n",
    "    dictwithnodummies2[keys]=dictwithnodummies2[keys]+linregdict2[keys2]\n",
    "print(dictwithnodummies2)\n",
    "dict4 =dict(sorted(dictwithnodummies.items(), key = itemgetter(1), reverse = True)[:10])\n",
    "print(\" \")\n",
    "print(\"The top 10 weights with no dummies are are  \" + str(dict4))"
   ]
  },
  {
   "cell_type": "code",
   "execution_count": 51,
   "id": "e930d15e",
   "metadata": {},
   "outputs": [
    {
     "name": "stdout",
     "output_type": "stream",
     "text": [
      "Performance metrics and weights are identical to non transformed counterparts\n"
     ]
    }
   ],
   "source": [
    "print(\"Performance metrics and weights are identical to non transformed counterparts\")"
   ]
  },
  {
   "cell_type": "markdown",
   "id": "d09279f2",
   "metadata": {},
   "source": [
    "## 2.4 LASSO"
   ]
  },
  {
   "cell_type": "markdown",
   "id": "68d321fa",
   "metadata": {},
   "source": [
    "Utilizing *cross-validation* you will Construct an $\\ell_1$-regularized linear model using Scikit-learn's `LASSO`:\n",
    "1. Using `GridSearchCV`, determine the best choice of the hyperparameter $\\alpha$ out of values in the list `alphas` below.\n",
    "2. Report the time required to perform cross-validation via `GridSearchCV`. Report the mean and standard deviation of the performance metrics for the best performing model along with its associated hyperparameter. You may use the function `collate_ht_results` for this purpose.\n",
    "3. Report the weights (coefficients) of the LASSO model and their associated features in ascending order. Note that LASSO attempts to set as many weights to zero in order to create a more parsimonious model while still maintaining regression performance. How many weights are non-zero?\n",
    " \n",
    "### Please Read!\n",
    "There are a few parameters for the `GridSearchCV` and `RandomizedSearchCV` functions that should be set:\n",
    "- `scoring` - This controls the strategy to evaluate the performance of the cross-validated model on the test set, set it to `p2_metrics_scorer`.\n",
    "- `refit` - This will refit an estimator using the best found parameters on the whole dataset, set it to `\"mse\"`\n",
    "- `cv` - This will enable you to reuse your CV splits created in Part 2.1\n",
    "    `n_jobs` - Number of jobs to run in parallel, if you have more than one core on your device (you should), set this to as many as you'd like to use, or to `-1` if you want to use all available cores.\n",
    "- `return_train_score` - Setting this to `False` will reduce computational time."
   ]
  },
  {
   "cell_type": "code",
   "execution_count": 52,
   "id": "9f8fd3eb",
   "metadata": {},
   "outputs": [],
   "source": [
    "from sklearn.linear_model import Lasso\n",
    "import timeit\n",
    "from sklearn.model_selection import KFold\n",
    "from sklearn.model_selection import GridSearchCV\n",
    "from sklearn.model_selection import RandomizedSearchCV\n",
    "skf=KFold(n_splits=5, shuffle=True, random_state=23784559)"
   ]
  },
  {
   "cell_type": "code",
   "execution_count": 53,
   "id": "283aac61",
   "metadata": {},
   "outputs": [],
   "source": [
    "alphas = 10**np.linspace(1,-3,50)*0.5"
   ]
  },
  {
   "cell_type": "code",
   "execution_count": 54,
   "id": "5d86a5e5",
   "metadata": {},
   "outputs": [],
   "source": [
    "#Summarizes model performance results produced during hyperparameter tuning\n",
    "def collate_ht_results(ht_results,metric_keys=metric_keys,display=True):\n",
    "    ht_stats=dict()\n",
    "    for metric in metric_keys:\n",
    "        ht_stats[metric+\"_mean\"] = ht_results.cv_results_[\"mean_test_\"+metric][ht_results.best_index_]\n",
    "        ht_stats[metric+\"_std\"] = metric_std = ht_results.cv_results_[\"std_test_\"+metric][ht_results.best_index_]\n",
    "        if display:\n",
    "            print(\"test_\"+metric,ht_stats[metric+\"_mean\"],\"(\"+str(ht_stats[metric+\"_std\"])+\")\")\n",
    "    return ht_stats"
   ]
  },
  {
   "cell_type": "code",
   "execution_count": 55,
   "id": "74f57098",
   "metadata": {},
   "outputs": [
    {
     "name": "stdout",
     "output_type": "stream",
     "text": [
      "Fitting 5 folds for each of 50 candidates, totalling 250 fits\n",
      "Best parameters:  {'alpha': 0.0005, 'random_state': 23784559}\n",
      "Best score:  -0.01893359327460544\n"
     ]
    }
   ],
   "source": [
    "parameters = {'alpha':alphas,'random_state':[23784559]} \n",
    "lassomodel = Lasso()\n",
    "start1 = timeit.default_timer()\n",
    "lassogrid = GridSearchCV(lassomodel, parameters, scoring=p2_metrics_scorer, n_jobs=-1, refit=\"mse\", cv=skf, verbose=3,return_train_score=False)\n",
    "stop1 = timeit.default_timer()\n",
    "start11 = timeit.default_timer()\n",
    "lassogrid.fit(X_train01, y_train01)\n",
    "stop11 = timeit.default_timer()\n",
    "print('Best parameters: ',lassogrid.best_params_)\n",
    "print('Best score: ',lassogrid.best_score_)\n",
    "start12 = timeit.default_timer()\n",
    "lassogridpred = lassogrid.predict(X_test01)\n",
    "stop12 = timeit.default_timer()"
   ]
  },
  {
   "cell_type": "code",
   "execution_count": 56,
   "id": "cda8b521",
   "metadata": {},
   "outputs": [
    {
     "name": "stdout",
     "output_type": "stream",
     "text": [
      "Grid Search: \n",
      "{'mse': 0.01832123403426337, 'mae': 0.09316648374367953, 'r2': 0.6141202779155455}\n",
      "Time to find best parameters in seconds:  0.00010399999996479892\n",
      "Time to fit in seconds:  48.59514919999992\n",
      "Time to test in seconds:  0.0005823999999847729\n",
      "test_mse -0.01893359327460544 (0.00162911061864321)\n",
      "test_mae -0.09672121312758211 (0.0038539443291907755)\n",
      "test_r2 -0.6615699958944786 (0.013514232075723782)\n"
     ]
    },
    {
     "data": {
      "text/plain": [
       "{'mse_mean': -0.01893359327460544,\n",
       " 'mse_std': 0.00162911061864321,\n",
       " 'mae_mean': -0.09672121312758211,\n",
       " 'mae_std': 0.0038539443291907755,\n",
       " 'r2_mean': -0.6615699958944786,\n",
       " 'r2_std': 0.013514232075723782}"
      ]
     },
     "execution_count": 56,
     "metadata": {},
     "output_type": "execute_result"
    }
   ],
   "source": [
    "print(\"Grid Search: \")\n",
    "print(p2_metrics(y_test01,lassogridpred,negation=False))\n",
    "print('Time to find best parameters in seconds: ',stop1-start1)  \n",
    "print('Time to fit in seconds: ',stop11-start11)\n",
    "print('Time to test in seconds: ',stop12-start12)\n",
    "collate_ht_results(lassogrid,metric_keys=metric_keys,display=True)"
   ]
  },
  {
   "cell_type": "code",
   "execution_count": 57,
   "id": "eec153ae",
   "metadata": {},
   "outputs": [
    {
     "name": "stdout",
     "output_type": "stream",
     "text": [
      "Fitting 5 folds for each of 50 candidates, totalling 250 fits\n",
      "Best parameters:  {'random_state': 23784559, 'alpha': 0.0005}\n",
      "Best score:  -0.01893359327460544\n"
     ]
    }
   ],
   "source": [
    "parameters2 = {'alpha':alphas,'random_state':[23784559]} \n",
    "lassomodel2 = Lasso()\n",
    "start2 = timeit.default_timer()\n",
    "lassogrid2 = RandomizedSearchCV(lassomodel2, parameters2, scoring=p2_metrics_scorer, n_jobs=-1, refit=\"mse\", cv=skf, verbose=3,return_train_score=False,n_iter=50)\n",
    "stop2 = timeit.default_timer()\n",
    "start21 = timeit.default_timer()\n",
    "lassogrid2.fit(X_train01, y_train01)\n",
    "stop21 = timeit.default_timer()\n",
    "print('Best parameters: ',lassogrid2.best_params_)\n",
    "print('Best score: ',lassogrid2.best_score_)\n",
    "start22 = timeit.default_timer()\n",
    "lassogridpred2 = lassogrid2.predict(X_test01)\n",
    "stop22 = timeit.default_timer()"
   ]
  },
  {
   "cell_type": "code",
   "execution_count": 58,
   "id": "4b6dc974",
   "metadata": {},
   "outputs": [
    {
     "name": "stdout",
     "output_type": "stream",
     "text": [
      "Randomized Search: \n",
      "{'mse': 0.01832123403426337, 'mae': 0.09316648374367953, 'r2': 0.6141202779155455}\n",
      "Time to find best parameters in seconds:  7.790000006480113e-05\n",
      "Time to fit in seconds:  1.1895862999999736\n",
      "Time to test in seconds:  0.0004973999999720036\n",
      "test_mse -0.01893359327460544 (0.00162911061864321)\n",
      "test_mae -0.09672121312758211 (0.0038539443291907755)\n",
      "test_r2 -0.6615699958944786 (0.013514232075723782)\n"
     ]
    },
    {
     "data": {
      "text/plain": [
       "{'mse_mean': -0.01893359327460544,\n",
       " 'mse_std': 0.00162911061864321,\n",
       " 'mae_mean': -0.09672121312758211,\n",
       " 'mae_std': 0.0038539443291907755,\n",
       " 'r2_mean': -0.6615699958944786,\n",
       " 'r2_std': 0.013514232075723782}"
      ]
     },
     "execution_count": 58,
     "metadata": {},
     "output_type": "execute_result"
    }
   ],
   "source": [
    "print(\"Randomized Search: \")\n",
    "print(p2_metrics(y_test01,lassogridpred2,negation=False))\n",
    "print('Time to find best parameters in seconds: ',stop2-start2)  \n",
    "print('Time to fit in seconds: ',stop21-start21)\n",
    "print('Time to test in seconds: ',stop22-start22)\n",
    "collate_ht_results(lassogrid2,metric_keys=metric_keys,display=True)"
   ]
  },
  {
   "cell_type": "code",
   "execution_count": 59,
   "id": "fdb0e1e3",
   "metadata": {},
   "outputs": [
    {
     "name": "stdout",
     "output_type": "stream",
     "text": [
      " \n",
      "The weights with no dummies in ascending order are {'PctPersDenseHous': 0.050719372345490316, 'PctIlleg': 0.0431666110952738, 'racepctblack': 0.04005606369631218, 'PersPerOccupHous': 0.03419519014992146, 'MedRent': 0.033119405100771916, 'MalePctNevMarr': 0.030507004960040503, 'MalePctDivorce': 0.03017158487005436, 'NumStreet': 0.02385819407644086, 'HousVacant': 0.022431004566305097, 'PctEmploy': 0.01848406095818683, 'pctUrban': 0.01673524021534094, 'PctForeignBorn': 0.016190824478235784, 'PctOccupMgmtProf': 0.010822608304632064, 'pctWSocSec': 0.009800110666034405, 'MedRentPctHousInc': 0.008813986712579108, 'LemasPctOfficDrugUn': 0.008138975024275819, 'PctVacantBoarded': 0.007979785073068166, 'pctWFarmSelf': 0.007874954088742973, 'PctHousNoPhone': 0.007861880335372579, 'OtherPerCap': 0.007490970464947416, 'PctSameCity85': 0.006277203068908143, 'PctOccupManu': 0.005605646871983514, 'PctRecImmig10': 0.005368503099154044, 'PctHousLess3BR': 0.00517272892459755, 'HispPerCap': 0.005117441247599609, 'PctImmigRecent': 0.003966154689390642, 'NumInShelters': 0.0036379342194944376, 'agePct65up': 0.003574361392662851, 'agePct12t21': 0.003361230778293737, 'householdsize': 0.0025242709982830095, 'AsianPerCap': 0.002166954191313915, 'MedNumBR': 0.0017685189928714274, 'LandArea': 0.0010300224561627385, 'PctSameState85': 0.000526285063131417, 'racePctAsian': 0.0, 'racePctHisp': 0.0, 'agePct16t24': 0.0, 'numbUrban': 0.0, 'medIncome': 0.0, 'pctWPubAsst': 0.0, 'medFamInc': 0.0, 'perCapInc': 0.0, 'NumUnderPov': 0.0, 'PctNotHSGrad': 0.0, 'PctBSorMore': 0.0, 'PctUnemployed': 0.0, 'PctEmplProfServ': 0.0, 'TotalPctDiv': 0.0, 'PersPerFam': 0.0, 'PctFam2Par': 0.0, 'PctTeen2Par': 0.0, 'PctWorkMomYoungKids': 0.0, 'PctImmigRec5': 0.0, 'PctImmigRec10': 0.0, 'PctRecentImmig': 0.0, 'PctRecImmig5': 0.0, 'PctRecImmig8': 0.0, 'PctSpeakEnglOnly': 0.0, 'PctLargHouseFam': 0.0, 'PctHousOwnOcc': 0.0, 'MedYrHousBuilt': 0.0, 'OwnOccMedVal': 0.0, 'OwnOccHiQuart': 0.0, 'RentMedian': 0.0, 'RentHighQ': 0.0, 'PctBornSameState': 0.0, 'PctSameHouse85': 0.0, 'PopDens': 0.0, 'PctWOFullPlumb': -0.001226068801971069, 'PctImmigRec8': -0.001339444406464135, 'PersPerRentOccHous': -0.0013590127824749977, 'NumIlleg': -0.0013992776487723178, 'blackPerCap': -0.0028092637858352348, 'indianPerCap': -0.0030557881649468464, 'fold': -0.004525511064339925, 'MedOwnCostPctInc': -0.0056708393835968275, 'OwnOccLowQuart': -0.005920111435047038, 'population': -0.0068730266301996685, 'PctEmplManu': -0.007493301025508511, 'whitePerCap': -0.007957686896323417, 'PctPersOwnOccup': -0.00816132760590352, 'PctUsePubTrans': -0.009276101680478686, 'PctHousOccup': -0.009326715356249985, 'PctVacMore6Mos': -0.009378208946331191, 'PctYoungKids2Par': -0.009853184099645234, 'racePctWhite': -0.010200725933127059, 'PersPerOwnOccHous': -0.011570628395087478, 'PctLess9thGrade': -0.011577901413009694, 'NumImmig': -0.01226535830150338, 'pctWRetire': -0.014168146939103433, 'MedOwnCostPctIncNoMtg': -0.014577727063865216, 'PctWorkMom': -0.017633164917776514, 'PctNotSpeakEnglWell': -0.018279549215896144, 'FemalePctDiv': -0.019090900204665945, 'pctWWage': -0.02513536664854581, 'PctLargHouseOccup': -0.025195339919872193, 'agePct12t29': -0.029464662583667863, 'pctWInvInc': -0.03225023148526889, 'RentLowQ': -0.03554625516908019, 'PctPopUnderPov': -0.03723303200854234, 'PctKids2Par': -0.04275427554578511}\n",
      "Number of features not equal to zero  67\n"
     ]
    }
   ],
   "source": [
    "lassomodel3 = Lasso(alpha=0.0005,random_state=23784559)\n",
    "lassomodel3.fit(X_train01,y_train01)\n",
    "coefficientl=lassomodel3.coef_.tolist()\n",
    "lassodict2={}\n",
    "for key in columns1:\n",
    "    for value in coefficientl:\n",
    "        lassodict2[key] = value\n",
    "        coefficientl.remove(value)\n",
    "        break\n",
    "dictwithnodummiesl={}\n",
    "for i in originalcolumns:\n",
    " dictwithnodummiesl[i]=0\n",
    "for keys in dictwithnodummiesl:\n",
    " keywith_=keys+'_'\n",
    " for keys2 in lassodict2:\n",
    "  if keys==keys2 or keywith_ in keys2:\n",
    "    dictwithnodummiesl[keys]=dictwithnodummiesl[keys]+lassodict2[keys2]\n",
    "dict5 =dict(sorted(dictwithnodummiesl.items(), key = itemgetter(1), reverse = True)[:len(dictwithnodummiesl)])\n",
    "print(\" \")\n",
    "print(\"The weights with no dummies in ascending order are \" + str(dict5))\n",
    "numberiszero=0\n",
    "for keys in dictwithnodummiesl:\n",
    "    if dictwithnodummiesl[keys]==0.0:\n",
    "     numberiszero=numberiszero+1\n",
    "print(\"Number of features not equal to zero \",(len(dictwithnodummiesl)-numberiszero))"
   ]
  },
  {
   "cell_type": "markdown",
   "id": "21a1aff9",
   "metadata": {},
   "source": [
    "## 2.5 Multilayer Perceptron (MLP)"
   ]
  },
  {
   "cell_type": "markdown",
   "id": "4b26ebb4",
   "metadata": {},
   "source": [
    "Utilizing *cross-validation* you will construct an MLP regression model using Scikit-learn's `MLPRegressor`:\n",
    "1. Using `GridSearchCV`, determine the best choice of hyperparameters out of the following possible values:\n",
    "- *Number of hidden layers*: [1, 2, 3]\n",
    "- *Number of neurons per layer*: [10, 20, 50]\n",
    "- *Learning rate*: [1e-5, 1e-4, 0.001, 0.01, 0.1, 0.5, 1, 5, 10, 50, 100]\n",
    "\n",
    "2. Report the time required to perform cross-validation via `GridSearchCV`. Report the mean and standard deviation of the performance metrics for the best performing model along with its associated hyperparameter. You may use the function `collate_ht_results` for this purpose.\n",
    "\n",
    " \n",
    "### Please Read!\n",
    "In addition to utilizing the same `GridSearchCV` parameters as in 2.5, the `MLPRegressor` function should have the following parameters set:\n",
    "- `max_iter` -  This controls the maximum number of rounds of backpropagation/gradient descent; set it to 10,000.\n",
    "- `early_stopping` - This will reserve a portion of the training data tha can be used to evaluate convergence progress in order to stop training early; set it to `True`."
   ]
  },
  {
   "cell_type": "code",
   "execution_count": 60,
   "id": "fe0767b2",
   "metadata": {},
   "outputs": [],
   "source": [
    "from sklearn.neural_network import MLPRegressor"
   ]
  },
  {
   "cell_type": "code",
   "execution_count": 61,
   "id": "a2c66b8b",
   "metadata": {},
   "outputs": [
    {
     "name": "stdout",
     "output_type": "stream",
     "text": [
      "Fitting 5 folds for each of 99 candidates, totalling 495 fits\n",
      "Best parameters:  {'hidden_layer_sizes': (10,), 'learning_rate_init': 0.1}\n",
      "Best score:  -0.021417313500144912\n"
     ]
    }
   ],
   "source": [
    "parametersr = {'hidden_layer_sizes':[(10,),(20,),(50,),(10,10,),(20,20,),(50,50,),(10,10,10,),(20,20,20,),(50,50,50,)],'learning_rate_init':[0.00001,0.0001, 0.001, 0.01, 0.1, 0.5, 1, 5, 10, 50, 100]} \n",
    "regr1 = MLPRegressor(random_state=23784559, max_iter=10000,early_stopping=True)\n",
    "start3 = timeit.default_timer()\n",
    "regrgrid = GridSearchCV(regr1, parametersr, scoring=p2_metrics_scorer, n_jobs=-1, refit=\"mse\",cv=skf, verbose=3,return_train_score=False)\n",
    "stop3 = timeit.default_timer()\n",
    "start31 = timeit.default_timer()\n",
    "regrgrid.fit(X_train01, y_train01)\n",
    "stop31 = timeit.default_timer()\n",
    "print('Best parameters: ',regrgrid.best_params_)\n",
    "print('Best score: ',regrgrid.best_score_)\n",
    "start32 = timeit.default_timer()\n",
    "regrgridpred = regrgrid.predict(X_test01)\n",
    "stop32 = timeit.default_timer()"
   ]
  },
  {
   "cell_type": "code",
   "execution_count": 62,
   "id": "9bf74de2",
   "metadata": {},
   "outputs": [
    {
     "name": "stdout",
     "output_type": "stream",
     "text": [
      "Grid Search: \n",
      "{'mse': 0.02079173730063464, 'mae': 0.1009306226602191, 'r2': 0.5620868225242087}\n",
      "Time to find best parameters in seconds:  0.00019720000000233995\n",
      "Time to fit in seconds:  162.8041482\n",
      "Time to test in seconds:  0.00116420000006201\n",
      "test_mse -0.021417313500144912 (0.0032760742427384304)\n",
      "test_mae -0.10249962753842264 (0.008042507739511729)\n",
      "test_r2 -0.6184509886998015 (0.042100340362719285)\n"
     ]
    },
    {
     "data": {
      "text/plain": [
       "{'mse_mean': -0.021417313500144912,\n",
       " 'mse_std': 0.0032760742427384304,\n",
       " 'mae_mean': -0.10249962753842264,\n",
       " 'mae_std': 0.008042507739511729,\n",
       " 'r2_mean': -0.6184509886998015,\n",
       " 'r2_std': 0.042100340362719285}"
      ]
     },
     "execution_count": 62,
     "metadata": {},
     "output_type": "execute_result"
    }
   ],
   "source": [
    "print(\"Grid Search: \")\n",
    "print(p2_metrics(y_test01,regrgridpred,negation=False))\n",
    "print('Time to find best parameters in seconds: ',stop3-start3)  \n",
    "print('Time to fit in seconds: ',stop31-start31)\n",
    "print('Time to test in seconds: ',stop32-start32)\n",
    "collate_ht_results(regrgrid,metric_keys=metric_keys,display=True)"
   ]
  },
  {
   "cell_type": "markdown",
   "id": "d85f4f9a",
   "metadata": {},
   "source": [
    "## 2.6 Final Models"
   ]
  },
  {
   "cell_type": "markdown",
   "id": "b10b7dcb",
   "metadata": {},
   "source": [
    "1. Using the full training set (**training + validation**), train *two* linear regression models, one with and without PCA preprocessing, then apply them to the test set. For LASSO and MLP, you can utilize the best models found during cross-validation and just apply them to the test set.\n",
    "2. Create a bar chart of the three regression metrics for each model on the same plot.\n",
    "3. How do the models's performances compare? What do the metrics reveal about the dataset?"
   ]
  },
  {
   "cell_type": "code",
   "execution_count": 63,
   "id": "884ad5b1",
   "metadata": {},
   "outputs": [
    {
     "data": {
      "text/plain": [
       "{'mse': 0.01889858409941867,\n",
       " 'mae': 0.09651812333584919,\n",
       " 'r2': 0.6019601973079334}"
      ]
     },
     "execution_count": 63,
     "metadata": {},
     "output_type": "execute_result"
    }
   ],
   "source": [
    "X_train01withpca=X_train01\n",
    "X_test01withpca=X_test01\n",
    "pca2=PCA(n_components=cumindex)\n",
    "pca2.fit(X_train01withpca)\n",
    "pca2.transform(X_test01withpca)\n",
    "finallinregpca = LinearRegression()\n",
    "finallinregpca.fit(X_train01withpca,y_train01)\n",
    "finallinregpredpca=finallinregpca.predict(X_test01withpca)\n",
    "p2_metrics(y_test01,finallinregpredpca,negation=False)"
   ]
  },
  {
   "cell_type": "code",
   "execution_count": 64,
   "id": "1fe111f6",
   "metadata": {},
   "outputs": [
    {
     "data": {
      "text/plain": [
       "{'mse': 0.01889858409941867,\n",
       " 'mae': 0.09651812333584919,\n",
       " 'r2': 0.6019601973079334}"
      ]
     },
     "execution_count": 64,
     "metadata": {},
     "output_type": "execute_result"
    }
   ],
   "source": [
    "finallinreg = LinearRegression()\n",
    "finallinreg.fit(X_train01,y_train01)\n",
    "finallinregpred=finallinreg.predict(X_test01)\n",
    "p2_metrics(y_test01,finallinregpred,negation=False)"
   ]
  },
  {
   "cell_type": "code",
   "execution_count": 65,
   "id": "bb8f5c33",
   "metadata": {},
   "outputs": [
    {
     "data": {
      "text/plain": [
       "{'mse': 0.01832123403426337,\n",
       " 'mae': 0.09316648374367953,\n",
       " 'r2': 0.6141202779155455}"
      ]
     },
     "execution_count": 65,
     "metadata": {},
     "output_type": "execute_result"
    }
   ],
   "source": [
    "lassomodel4 = Lasso(random_state= 23784559,alpha=0.0005)\n",
    "lassomodel4.fit(X_train01,y_train01)\n",
    "finallasso=lassomodel4.predict(X_test01)\n",
    "p2_metrics(y_test01,finallasso,negation=False)"
   ]
  },
  {
   "cell_type": "code",
   "execution_count": 66,
   "id": "cae96011",
   "metadata": {},
   "outputs": [
    {
     "data": {
      "text/plain": [
       "{'mse': 0.02079173730063464,\n",
       " 'mae': 0.1009306226602191,\n",
       " 'r2': 0.5620868225242087}"
      ]
     },
     "execution_count": 66,
     "metadata": {},
     "output_type": "execute_result"
    }
   ],
   "source": [
    "regr2 = MLPRegressor(random_state=23784559, max_iter=10000,early_stopping=True,hidden_layer_sizes=(10,),learning_rate_init= 0.1)\n",
    "regr2.fit(X_train01,y_train01)\n",
    "finalregr2=regr2.predict(X_test01)\n",
    "p2_metrics(y_test01,finalregr2,negation=False)"
   ]
  },
  {
   "cell_type": "code",
   "execution_count": 67,
   "id": "4128ab08",
   "metadata": {},
   "outputs": [
    {
     "name": "stdout",
     "output_type": "stream",
     "text": [
      "Final Lin Reg with PCA  {'mse': 0.01889858409941867, 'mae': 0.09651812333584919, 'r2': 0.6019601973079334}\n",
      "Final Lin Reg without PCA  {'mse': 0.01889858409941867, 'mae': 0.09651812333584919, 'r2': 0.6019601973079334}\n",
      "Final Lasso  {'mse': 0.01832123403426337, 'mae': 0.09316648374367953, 'r2': 0.6141202779155455}\n",
      "Final MLPRegressor  {'mse': 0.02079173730063464, 'mae': 0.1009306226602191, 'r2': 0.5620868225242087}\n"
     ]
    }
   ],
   "source": [
    "print(\"Final Lin Reg with PCA \",p2_metrics(y_test01,finallinregpredpca,negation=False))\n",
    "print(\"Final Lin Reg without PCA \",p2_metrics(y_test01,finallinregpred,negation=False))\n",
    "print(\"Final Lasso \",p2_metrics(y_test01,finallasso,negation=False))\n",
    "print(\"Final MLPRegressor \",p2_metrics(y_test01,finalregr2,negation=False))"
   ]
  },
  {
   "cell_type": "code",
   "execution_count": 68,
   "id": "16e13f4d",
   "metadata": {},
   "outputs": [],
   "source": [
    "linregpcadict=p2_metrics(y_test01,finallinregpredpca,negation=False)\n",
    "linregdict=p2_metrics(y_test01,finallinregpred,negation=False)\n",
    "lassodict=p2_metrics(y_test01,finallasso,negation=False)\n",
    "mlpregdict=p2_metrics(y_test01,finalregr2,negation=False)"
   ]
  },
  {
   "cell_type": "code",
   "execution_count": 69,
   "id": "81f8aea6",
   "metadata": {},
   "outputs": [
    {
     "data": {
      "image/png": "[encoded data removed]",
      "text/plain": [
       "<Figure size 1440x720 with 1 Axes>"
      ]
     },
     "metadata": {
      "needs_background": "light"
     },
     "output_type": "display_data"
    }
   ],
   "source": [
    "labels=metric_keys\n",
    "x = np.arange(len(labels))\n",
    "width = 0.2 \n",
    "linregpcametrics=[linregpcadict[l] for l in labels]\n",
    "linregmetrics=[linregdict[l] for l in labels]\n",
    "lassometrics = [lassodict[l] for l in labels]\n",
    "mlpregmetrics = [mlpregdict[l] for l in labels]\n",
    "fig, ax = plt.subplots()\n",
    "linregpcabar = ax.bar(x-width-width, linregpcametrics, width,label='Lin Reg with PCA')\n",
    "linregbar = ax.bar(x-width, linregmetrics, width, label='Lin Reg without PCA')\n",
    "lassobar = ax.bar(x, lassometrics, width, label='Lasso')\n",
    "mlpregbar=ax.bar(x+width,mlpregmetrics, width, label='Multilayer Perceptron')\n",
    "ax.set_ylabel('Value of Metrics ')\n",
    "ax.set_title('Model Performance')\n",
    "plt.xticks(ticks=x,labels=labels)\n",
    "ax.legend(loc='center left', bbox_to_anchor=(1,0.5))\n",
    "plt.show()"
   ]
  },
  {
   "cell_type": "code",
   "execution_count": 70,
   "id": "b508b604",
   "metadata": {},
   "outputs": [
    {
     "name": "stdout",
     "output_type": "stream",
     "text": [
      "Lasso is the best performing model in regards to mean square error, mean absolute error. Linear Regression with or without PCA is virtually equivalent but performs worse than Lasso. Multilayer Perceptron performs the worst out of all. The fact that PCA's effect on results was minimal to nonexistent indicates that the dataset is poorly correlation. The variables with the most positive weight have fairly small weights as proof of this. MLP's poor performance indicates that it is not the best in regards to regression. The fact that the dataset is poorly correlated prevents a neural network from properly recognizing patterns. That is why there is a large margin of mean absolute error. I had to purge many variables due to so many being mostly nulls, and otherpercap's datatype was inaccurate and had to be changed. Lasso's restrictions to prevent overfitting are best for this type of unorganized and lacking data.\n"
     ]
    }
   ],
   "source": [
    "print(\"Lasso is the best performing model in regards to mean square error, mean absolute error. Linear Regression with or without PCA is virtually equivalent but performs worse than Lasso. Multilayer Perceptron performs the worst out of all. The fact that PCA's effect on results was minimal to nonexistent indicates that the dataset is poorly correlation. The variables with the most positive weight have fairly small weights as proof of this. MLP's poor performance indicates that it is not the best in regards to regression. The fact that the dataset is poorly correlated prevents a neural network from properly recognizing patterns. That is why there is a large margin of mean absolute error. I had to purge many variables due to so many being mostly nulls, and otherpercap's datatype was inaccurate and had to be changed. Lasso's restrictions to prevent overfitting are best for this type of unorganized and lacking data.\")"
   ]
  }
 ],
 "metadata": {
  "kernelspec": {
   "display_name": "Python 3",
   "language": "python",
   "name": "python3"
  },
  "language_info": {
   "codemirror_mode": {
    "name": "ipython",
    "version": 3
   },
   "file_extension": ".py",
   "mimetype": "text/x-python",
   "name": "python",
   "nbconvert_exporter": "python",
   "pygments_lexer": "ipython3",
   "version": "3.8.8"
  },
  "vscode": {
   "interpreter": {
    "hash": "b0fa6594d8f4cbf19f97940f81e996739fb7646882a419484c72d19e05852a7e"
   }
  }
 },
 "nbformat": 4,
 "nbformat_minor": 5
}
