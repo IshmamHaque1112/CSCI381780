{
 "cells": [
  {
   "cell_type": "code",
   "execution_count": 1,
   "id": "d988c283",
   "metadata": {},
   "outputs": [
    {
     "name": "stdout",
     "output_type": "stream",
     "text": [
      "Requirement already satisfied: scikit-learn in c:\\programdata\\anaconda3\\lib\\site-packages (1.2.0)\n",
      "Requirement already satisfied: joblib>=1.1.1 in c:\\programdata\\anaconda3\\lib\\site-packages (from scikit-learn) (1.2.0)\n",
      "Requirement already satisfied: scipy>=1.3.2 in c:\\programdata\\anaconda3\\lib\\site-packages (from scikit-learn) (1.6.2)\n",
      "Requirement already satisfied: numpy>=1.17.3 in c:\\programdata\\anaconda3\\lib\\site-packages (from scikit-learn) (1.20.1)\n",
      "Requirement already satisfied: threadpoolctl>=2.0.0 in c:\\programdata\\anaconda3\\lib\\site-packages (from scikit-learn) (2.1.0)\n"
     ]
    },
    {
     "data": {
      "text/html": [
       "<div>\n",
       "<style scoped>\n",
       "    .dataframe tbody tr th:only-of-type {\n",
       "        vertical-align: middle;\n",
       "    }\n",
       "\n",
       "    .dataframe tbody tr th {\n",
       "        vertical-align: top;\n",
       "    }\n",
       "\n",
       "    .dataframe thead th {\n",
       "        text-align: right;\n",
       "    }\n",
       "</style>\n",
       "<table border=\"1\" class=\"dataframe\">\n",
       "  <thead>\n",
       "    <tr style=\"text-align: right;\">\n",
       "      <th></th>\n",
       "      <th>0</th>\n",
       "      <th>1</th>\n",
       "      <th>2</th>\n",
       "      <th>3</th>\n",
       "      <th>4</th>\n",
       "      <th>5</th>\n",
       "      <th>6</th>\n",
       "      <th>7</th>\n",
       "      <th>8</th>\n",
       "      <th>9</th>\n",
       "      <th>...</th>\n",
       "      <th>13</th>\n",
       "      <th>14</th>\n",
       "      <th>15</th>\n",
       "      <th>16</th>\n",
       "      <th>17</th>\n",
       "      <th>18</th>\n",
       "      <th>19</th>\n",
       "      <th>20</th>\n",
       "      <th>21</th>\n",
       "      <th>22</th>\n",
       "    </tr>\n",
       "  </thead>\n",
       "  <tbody>\n",
       "    <tr>\n",
       "      <th>0</th>\n",
       "      <td>p</td>\n",
       "      <td>x</td>\n",
       "      <td>s</td>\n",
       "      <td>n</td>\n",
       "      <td>t</td>\n",
       "      <td>p</td>\n",
       "      <td>f</td>\n",
       "      <td>c</td>\n",
       "      <td>n</td>\n",
       "      <td>k</td>\n",
       "      <td>...</td>\n",
       "      <td>s</td>\n",
       "      <td>w</td>\n",
       "      <td>w</td>\n",
       "      <td>p</td>\n",
       "      <td>w</td>\n",
       "      <td>o</td>\n",
       "      <td>p</td>\n",
       "      <td>k</td>\n",
       "      <td>s</td>\n",
       "      <td>u</td>\n",
       "    </tr>\n",
       "    <tr>\n",
       "      <th>1</th>\n",
       "      <td>e</td>\n",
       "      <td>x</td>\n",
       "      <td>s</td>\n",
       "      <td>y</td>\n",
       "      <td>t</td>\n",
       "      <td>a</td>\n",
       "      <td>f</td>\n",
       "      <td>c</td>\n",
       "      <td>b</td>\n",
       "      <td>k</td>\n",
       "      <td>...</td>\n",
       "      <td>s</td>\n",
       "      <td>w</td>\n",
       "      <td>w</td>\n",
       "      <td>p</td>\n",
       "      <td>w</td>\n",
       "      <td>o</td>\n",
       "      <td>p</td>\n",
       "      <td>n</td>\n",
       "      <td>n</td>\n",
       "      <td>g</td>\n",
       "    </tr>\n",
       "    <tr>\n",
       "      <th>2</th>\n",
       "      <td>e</td>\n",
       "      <td>b</td>\n",
       "      <td>s</td>\n",
       "      <td>w</td>\n",
       "      <td>t</td>\n",
       "      <td>l</td>\n",
       "      <td>f</td>\n",
       "      <td>c</td>\n",
       "      <td>b</td>\n",
       "      <td>n</td>\n",
       "      <td>...</td>\n",
       "      <td>s</td>\n",
       "      <td>w</td>\n",
       "      <td>w</td>\n",
       "      <td>p</td>\n",
       "      <td>w</td>\n",
       "      <td>o</td>\n",
       "      <td>p</td>\n",
       "      <td>n</td>\n",
       "      <td>n</td>\n",
       "      <td>m</td>\n",
       "    </tr>\n",
       "    <tr>\n",
       "      <th>3</th>\n",
       "      <td>p</td>\n",
       "      <td>x</td>\n",
       "      <td>y</td>\n",
       "      <td>w</td>\n",
       "      <td>t</td>\n",
       "      <td>p</td>\n",
       "      <td>f</td>\n",
       "      <td>c</td>\n",
       "      <td>n</td>\n",
       "      <td>n</td>\n",
       "      <td>...</td>\n",
       "      <td>s</td>\n",
       "      <td>w</td>\n",
       "      <td>w</td>\n",
       "      <td>p</td>\n",
       "      <td>w</td>\n",
       "      <td>o</td>\n",
       "      <td>p</td>\n",
       "      <td>k</td>\n",
       "      <td>s</td>\n",
       "      <td>u</td>\n",
       "    </tr>\n",
       "    <tr>\n",
       "      <th>4</th>\n",
       "      <td>e</td>\n",
       "      <td>x</td>\n",
       "      <td>s</td>\n",
       "      <td>g</td>\n",
       "      <td>f</td>\n",
       "      <td>n</td>\n",
       "      <td>f</td>\n",
       "      <td>w</td>\n",
       "      <td>b</td>\n",
       "      <td>k</td>\n",
       "      <td>...</td>\n",
       "      <td>s</td>\n",
       "      <td>w</td>\n",
       "      <td>w</td>\n",
       "      <td>p</td>\n",
       "      <td>w</td>\n",
       "      <td>o</td>\n",
       "      <td>e</td>\n",
       "      <td>n</td>\n",
       "      <td>a</td>\n",
       "      <td>g</td>\n",
       "    </tr>\n",
       "  </tbody>\n",
       "</table>\n",
       "<p>5 rows × 23 columns</p>\n",
       "</div>"
      ],
      "text/plain": [
       "  0  1  2  3  4  5  6  7  8  9   ... 13 14 15 16 17 18 19 20 21 22\n",
       "0  p  x  s  n  t  p  f  c  n  k  ...  s  w  w  p  w  o  p  k  s  u\n",
       "1  e  x  s  y  t  a  f  c  b  k  ...  s  w  w  p  w  o  p  n  n  g\n",
       "2  e  b  s  w  t  l  f  c  b  n  ...  s  w  w  p  w  o  p  n  n  m\n",
       "3  p  x  y  w  t  p  f  c  n  n  ...  s  w  w  p  w  o  p  k  s  u\n",
       "4  e  x  s  g  f  n  f  w  b  k  ...  s  w  w  p  w  o  e  n  a  g\n",
       "\n",
       "[5 rows x 23 columns]"
      ]
     },
     "execution_count": 1,
     "metadata": {},
     "output_type": "execute_result"
    }
   ],
   "source": [
    "import pandas as pd\n",
    "import numpy as np\n",
    "import seaborn as sns\n",
    "from sklearn import datasets\n",
    "import matplotlib.pyplot as plt\n",
    "import seaborn as sns\n",
    "from sklearn.preprocessing import StandardScaler\n",
    "from sklearn.preprocessing import LabelEncoder\n",
    "from sklearn.metrics import classification_report\n",
    "from sklearn.model_selection import StratifiedShuffleSplit\n",
    "!pip install --upgrade --user scikit-learn\n",
    "from collections import Counter\n",
    "sc = StandardScaler()\n",
    "sns.set()\n",
    "import matplotlib.pyplot as plt\n",
    "import timeit\n",
    "%matplotlib inline\n",
    "from sklearn import tree\n",
    "from sklearn.model_selection import train_test_split\n",
    "from sklearn.metrics import accuracy_score, precision_score, recall_score, confusion_matrix, f1_score, roc_auc_score \n",
    "from sklearn.model_selection import GridSearchCV\n",
    "from sklearn.model_selection import RandomizedSearchCV\n",
    "from sklearn.tree import DecisionTreeClassifier \n",
    "from sklearn.ensemble import RandomForestClassifier \n",
    "from sklearn.compose import ColumnTransformer\n",
    "from sklearn.preprocessing import OneHotEncoder\n",
    "from sklearn.model_selection import ShuffleSplit\n",
    "from sklearn.model_selection import StratifiedKFold\n",
    "%matplotlib inline\n",
    "Mushroom_data = pd.read_csv('agaricus-lepiota.data', header=None)\n",
    "Mushroom_data.head()"
   ]
  },
  {
   "cell_type": "code",
   "execution_count": 2,
   "id": "0f08ee92",
   "metadata": {},
   "outputs": [],
   "source": [
    "datacolumns=['edibleorpoisoned','cap-shape','cap-surface','cap-color','bruises?','odor','gill-attachment','gill-spacing','gill-size','gill-color','stalk-shape','stalk-root','stalk-surface-above-ring','stalk-surface-below-ring','stalk-color-above-ring','stalk-color-below-ring','veil-type','veil-color','ring-number','ring-type','spore-print-color','population','habitat']"
   ]
  },
  {
   "cell_type": "code",
   "execution_count": 3,
   "id": "3f4ebf38",
   "metadata": {},
   "outputs": [],
   "source": [
    "Mushroom_data.columns=datacolumns"
   ]
  },
  {
   "cell_type": "code",
   "execution_count": 4,
   "id": "17b320a8",
   "metadata": {},
   "outputs": [
    {
     "name": "stdout",
     "output_type": "stream",
     "text": [
      "edibleorpoisoned            0\n",
      "cap-shape                   0\n",
      "cap-surface                 0\n",
      "cap-color                   0\n",
      "bruises?                    0\n",
      "odor                        0\n",
      "gill-attachment             0\n",
      "gill-spacing                0\n",
      "gill-size                   0\n",
      "gill-color                  0\n",
      "stalk-shape                 0\n",
      "stalk-root                  0\n",
      "stalk-surface-above-ring    0\n",
      "stalk-surface-below-ring    0\n",
      "stalk-color-above-ring      0\n",
      "stalk-color-below-ring      0\n",
      "veil-type                   0\n",
      "veil-color                  0\n",
      "ring-number                 0\n",
      "ring-type                   0\n",
      "spore-print-color           0\n",
      "population                  0\n",
      "habitat                     0\n",
      "dtype: int64\n"
     ]
    }
   ],
   "source": [
    "shuffle = StratifiedShuffleSplit(n_splits=1,test_size=0.2, random_state=23784559)\n",
    "shuffle2 = StratifiedShuffleSplit(n_splits=1,test_size=0.25, random_state=23784559)\n",
    "shuffle3 = StratifiedShuffleSplit(n_splits=1,test_size=0.16666, random_state=23784559)\n",
    "print(Mushroom_data.isna().sum())"
   ]
  },
  {
   "cell_type": "code",
   "execution_count": 5,
   "id": "767ca3c2",
   "metadata": {},
   "outputs": [],
   "source": [
    "Mushroom_data['edibleorpoisoned'] = Mushroom_data['edibleorpoisoned'].replace('e',1)\n",
    "Mushroom_data['edibleorpoisoned'] = Mushroom_data['edibleorpoisoned'].replace('p',0)\n",
    "Mushroom_data = Mushroom_data.replace({'cap-shape': {'b':1,'c':2,'x':3,'f':4,'k':5,'s':6}})\n",
    "Mushroom_data = Mushroom_data.replace({'cap-surface': {'f':1,'g':2,'y':3,'s':4}})\n",
    "Mushroom_data = Mushroom_data.replace({'cap-color': {'n':1,'b':2,'c':3,'g':4,'r':5,'p':6,'u':7,'e':8,'w':9,'y':10}})\n",
    "Mushroom_data = Mushroom_data.replace({'bruises?': {'t':1,'f':2}})\n",
    "Mushroom_data = Mushroom_data.replace({'odor': {'a':1,'l':2,'c':3,'y':4,'f':5,'m':6,'n':7,'p':8,'s':9}})\n",
    "Mushroom_data = Mushroom_data.replace({'gill-attachment': {'a':1,'d':2,'f':3,'n':4}})\n",
    "Mushroom_data = Mushroom_data.replace({'gill-spacing': {'c':1,'w':2,'d':3}})\n",
    "Mushroom_data = Mushroom_data.replace({'gill-size': {'b':1,'n':2}})\n",
    "Mushroom_data = Mushroom_data.replace({'gill-color': {'k':1,'n':2,'b':3,'h':4,'g':5,'r':6,'o':7,'p':8,'u':9,'e':10,'w':11,'y':12}})\n",
    "Mushroom_data = Mushroom_data.replace({'stalk-shape': {'e':1,'t':2}})\n",
    "Mushroom_data = Mushroom_data.replace({'stalk-root': {'b':1,'c':2,'u':3,'e':4,'z':5,'r':6,'?':7}})\n",
    "Mushroom_data = Mushroom_data.replace({'stalk-surface-above-ring': {'f':1,'y':2,'k':3,'s':4}})\n",
    "Mushroom_data = Mushroom_data.replace({'stalk-surface-below-ring': {'f':1,'y':2,'k':3,'s':4}})\n",
    "Mushroom_data = Mushroom_data.replace({'stalk-color-above-ring': {'n':1,'b':2,'c':3,'g':4,'o':5,'p':6,'e':7,'w':8,'y':9}})\n",
    "Mushroom_data = Mushroom_data.replace({'stalk-color-below-ring': {'n':1,'b':2,'c':3,'g':4,'o':5,'p':6,'e':7,'w':8,'y':9}})\n",
    "Mushroom_data = Mushroom_data.replace({'veil-type': {'p':1,'u':2}})\n",
    "Mushroom_data = Mushroom_data.replace({'veil-color': {'n':1,'o':2,'w':3,'y':4}})\n",
    "Mushroom_data = Mushroom_data.replace({'ring-number': {'n':1,'o':2,'t':3}})\n",
    "Mushroom_data = Mushroom_data.replace({'ring-type': {'c':1,'e':2,'f':3,'l':4,'n':5,'p':6,'s':7,'z':8}})\n",
    "Mushroom_data = Mushroom_data.replace({'spore-print-color': {'k':1,'n':2,'b':3,'h':4,'g':5,'r':6,'o':7,'p':8,'u':9,'e':10,'w':11,'y':12}})\n",
    "Mushroom_data = Mushroom_data.replace({'population': {'a':1,'c':2,'n':3,'s':4,'v':5,'y':6}})\n",
    "Mushroom_data = Mushroom_data.replace({'habitat': {'g':1,'l':2,'m':3,'p':4,'u':5,'w':6,'d':7}})\n"
   ]
  },
  {
   "cell_type": "code",
   "execution_count": 6,
   "id": "621fb090",
   "metadata": {},
   "outputs": [
    {
     "data": {
      "text/plain": [
       "<AxesSubplot:>"
      ]
     },
     "execution_count": 6,
     "metadata": {},
     "output_type": "execute_result"
    },
    {
     "data": {
      "image/png": "[encoded data removed]",
      "text/plain": [
       "<Figure size 432x288 with 1 Axes>"
      ]
     },
     "metadata": {
      "needs_background": "light"
     },
     "output_type": "display_data"
    }
   ],
   "source": [
    "counts1 = Counter(Mushroom_data['edibleorpoisoned'])\n",
    "plottedcolumn1 = pd.DataFrame.from_dict(counts1, orient='index')\n",
    "plottedcolumn1.plot(kind=\"bar\")"
   ]
  },
  {
   "cell_type": "code",
   "execution_count": 7,
   "id": "ace42117",
   "metadata": {},
   "outputs": [
    {
     "data": {
      "text/plain": [
       "array([[-0.56585898,  0.36913771, -1.03515101, ...,  2.16486389,\n",
       "        -2.03326031,  0.61523337],\n",
       "       [-0.56585898,  1.21758011,  1.02988629, ..., -0.49954193,\n",
       "        -0.50960432,  0.22193902],\n",
       "       [-0.56585898,  1.21758011,  0.14487031, ..., -0.79558702,\n",
       "         0.25222367,  1.00852771],\n",
       "       ...,\n",
       "       [ 0.76677992,  0.36913771, -0.44514035, ...,  0.09254825,\n",
       "         1.01405166,  1.00852771],\n",
       "       [ 0.76677992,  0.36913771, -1.33015633, ...,  2.16486389,\n",
       "         0.25222367,  1.00852771],\n",
       "       [ 2.09941881,  1.21758011,  0.14487031, ...,  2.16486389,\n",
       "        -2.03326031,  0.61523337]])"
      ]
     },
     "execution_count": 7,
     "metadata": {},
     "output_type": "execute_result"
    }
   ],
   "source": [
    "calledcol=['edibleorpoisoned','cap-shape','cap-surface','cap-color','bruises?','odor','gill-attachment','gill-spacing','gill-size','gill-color','stalk-shape','stalk-root','stalk-surface-above-ring','stalk-surface-below-ring','stalk-color-above-ring','stalk-color-below-ring','veil-type','veil-color','ring-number','ring-type','spore-print-color','population','habitat']\n",
    "#Mushroom_data = pd.get_dummies(Mushroom_data, columns=calledcol, drop_first=False)\n",
    "#calledcol2=['cap-shape','cap-surface','cap-color','bruises?','odor','gill-attachment','gill-spacing','gill-size','gill-color','stalk-shape','stalk-root','stalk-surface-above-ring','stalk-surface-below-ring','stalk-color-above-ring','stalk-color-below-ring','veil-type','veil-color','ring-number','ring-type','spore-print-color','population','habitat']\n",
    "calledcol2=['cap-shape','cap-surface','cap-color','odor','gill-attachment','gill-spacing','gill-size','stalk-surface-above-ring','stalk-surface-below-ring','stalk-color-above-ring','stalk-color-below-ring','spore-print-color','population','habitat']\n",
    "\n",
    "X = Mushroom_data[calledcol2]\n",
    "y = Mushroom_data['edibleorpoisoned']\n",
    "train, test = next(shuffle.split(X=X, y=y))\n",
    "X_test = X.loc[test]\n",
    "y_test = y.loc[test]\n",
    "X_train = X.loc[train]\n",
    "y_train = y.loc[train]\n",
    "X_train0=X_train\n",
    "y_train0=y_train\n",
    "train, val = next(shuffle2.split(X=X_train, y=y_train))\n",
    "X_train = X.loc[train]\n",
    "y_train = y.loc[train]\n",
    "X_val = X.loc[val]\n",
    "y_val = y.loc[val]\n",
    "from sklearn import preprocessing\n",
    "X_train1 = preprocessing.scale(X_train)\n",
    "X_test1 = preprocessing.scale(X_test)\n",
    "X_val1 = preprocessing.scale(X_val)\n",
    "sc.fit(X_train1)\n",
    "#sc.fit(y_train)\n",
    "sc.transform(X_test1)\n",
    "#sc.transform(y_test)\n",
    "sc.transform(X_val1)\n",
    "#sc.tranform(y_val)"
   ]
  },
  {
   "cell_type": "code",
   "execution_count": 8,
   "id": "7871ec54",
   "metadata": {},
   "outputs": [
    {
     "name": "stdout",
     "output_type": "stream",
     "text": [
      "['edibleorpoisoned', 'cap-shape', 'cap-surface', 'cap-color', 'bruises?', 'odor', 'gill-attachment', 'gill-spacing', 'gill-size', 'gill-color', 'stalk-shape', 'stalk-root', 'stalk-surface-above-ring', 'stalk-surface-below-ring', 'stalk-color-above-ring', 'stalk-color-below-ring', 'veil-type', 'veil-color', 'ring-number', 'ring-type', 'spore-print-color', 'population', 'habitat']\n"
     ]
    }
   ],
   "source": [
    "print(Mushroom_data.columns.tolist())"
   ]
  },
  {
   "cell_type": "code",
   "execution_count": 9,
   "id": "1c96bc75",
   "metadata": {},
   "outputs": [],
   "source": [
    "#peformance metric functions\n",
    "from sklearn.metrics import confusion_matrix, roc_auc_score, f1_score\n",
    "import numpy as np\n",
    "\n",
    "#A list of keys for the dictionary returned by p1_metrics\n",
    "metric_keys = ['auc','f1','accuracy','sensitivity','specificity', 'precision']\n",
    "\n",
    "def p1_metrics(y_true,y_pred,include_cm=True):\n",
    "    cm = confusion_matrix(y_true,y_pred)\n",
    "    tn, fp, fn, tp = cm.ravel()\n",
    "    \n",
    "    if include_cm:\n",
    "        return {\n",
    "            'auc': roc_auc_score(y_true,y_pred),\n",
    "            'f1': f1_score(y_true,y_pred),\n",
    "            'accuracy': (tp+tn)/np.sum(cm),\n",
    "            'sensitivity': tp/(tp+fn),\n",
    "            'specificity': tn/(tn+fp),\n",
    "            'precision': tp/(tp+fp),\n",
    "            'confusion_matrix': cm}\n",
    "    else:\n",
    "        return {\n",
    "            'auc': roc_auc_score(y_true,y_pred),\n",
    "            'f1': f1_score(y_true,y_pred),\n",
    "            'accuracy': (tp+tn)/np.sum(cm),\n",
    "            'sensitivity': tp/(tp+fn),\n",
    "            'specificity': tn/(tn+fp),\n",
    "            'precision': tp/(tp+fp)}\n",
    "\n",
    "#This wrapper can be used to return multiple performance metrics during cross-validation\n",
    "def p1_metrics_scorer(clf,X,y_true):\n",
    "    y_pred=clf.predict(X)\n",
    "    return p1_metrics(y_true,y_pred,include_cm=False)\n",
    "from sklearn.naive_bayes import GaussianNB\n",
    "from sklearn import svm\n",
    "from sklearn.ensemble import RandomForestClassifier"
   ]
  },
  {
   "cell_type": "code",
   "execution_count": 10,
   "id": "10c56278",
   "metadata": {},
   "outputs": [
    {
     "name": "stdout",
     "output_type": "stream",
     "text": [
      "{'auc': 0.6990448758202055, 'f1': 0.5884270578647107, 'accuracy': 0.6892307692307692, 'sensitivity': 0.42874109263657956, 'specificity': 0.9693486590038314, 'precision': 0.9376623376623376, 'confusion_matrix': array([[759,  24],\n",
      "       [481, 361]], dtype=int64)}\n"
     ]
    }
   ],
   "source": [
    "gnbmodel = GaussianNB()\n",
    "y_pred1 = gnbmodel.fit(X_train, y_train).predict(X_test)\n",
    "print(p1_metrics(y_test,y_pred1,include_cm=True))"
   ]
  },
  {
   "cell_type": "code",
   "execution_count": 11,
   "id": "9472a056",
   "metadata": {},
   "outputs": [
    {
     "name": "stdout",
     "output_type": "stream",
     "text": [
      "{'auc': 0.9383029519813859, 'f1': 0.9422740524781342, 'accuracy': 0.939076923076923, 'sensitivity': 0.9596199524940617, 'specificity': 0.9169859514687101, 'precision': 0.9255441008018328, 'confusion_matrix': array([[718,  65],\n",
      "       [ 34, 808]], dtype=int64)}\n"
     ]
    }
   ],
   "source": [
    "svmmodel = svm.SVC(kernel='linear',random_state=23784559) \n",
    "svmmodel.fit(X_train1, y_train)\n",
    "y_pred2 = svmmodel.predict(X_test1)\n",
    "print(p1_metrics(y_test,y_pred2,include_cm=True))"
   ]
  },
  {
   "cell_type": "code",
   "execution_count": 12,
   "id": "8d9e8570",
   "metadata": {},
   "outputs": [
    {
     "name": "stdout",
     "output_type": "stream",
     "text": [
      "{'auc': 0.997624703087886, 'f1': 0.9976190476190476, 'accuracy': 0.9975384615384615, 'sensitivity': 0.995249406175772, 'specificity': 1.0, 'precision': 1.0, 'confusion_matrix': array([[783,   0],\n",
      "       [  4, 838]], dtype=int64)}\n"
     ]
    }
   ],
   "source": [
    "rfcmodel = RandomForestClassifier(random_state=23784559)\n",
    "rfcmodel.fit(X_train, y_train)\n",
    "y_pred3 = rfcmodel.predict(X_test)\n",
    "print(p1_metrics(y_test,y_pred3,include_cm=True))"
   ]
  },
  {
   "cell_type": "code",
   "execution_count": 13,
   "id": "8b09c91e",
   "metadata": {},
   "outputs": [
    {
     "data": {
      "image/png": "[encoded data removed]",
      "text/plain": [
       "<Figure size 432x288 with 2 Axes>"
      ]
     },
     "metadata": {
      "needs_background": "light"
     },
     "output_type": "display_data"
    }
   ],
   "source": [
    "from sklearn.metrics import confusion_matrix\n",
    "from sklearn.metrics import ConfusionMatrixDisplay\n",
    "cf1=confusion_matrix(y_test, y_pred1)\n",
    "#plot_confusion_matrix(gnbmodel, X_test, y_test)  \n",
    "ax1 = sns.heatmap(cf1, annot=True, cmap='Blues')\n",
    "ax1.set_title('GNB Matrix');\n",
    "ax1.set_xlabel('Predicted Values')\n",
    "ax1.set_ylabel('Actual Values ');\n",
    "ax1.xaxis.set_ticklabels(['False','True'])\n",
    "ax1.yaxis.set_ticklabels(['False','True'])\n",
    "plt.show()"
   ]
  },
  {
   "cell_type": "code",
   "execution_count": 14,
   "id": "d21a19fc",
   "metadata": {},
   "outputs": [
    {
     "data": {
      "image/png": "[encoded data removed]",
      "text/plain": [
       "<Figure size 432x288 with 2 Axes>"
      ]
     },
     "metadata": {
      "needs_background": "light"
     },
     "output_type": "display_data"
    }
   ],
   "source": [
    "cf2=confusion_matrix(y_test, y_pred2)\n",
    "#plot_confusion_matrix(svmmodel, X_test1, y_test)  \n",
    "ax2 = sns.heatmap(cf2, annot=True, cmap='Blues')\n",
    "ax2.set_title('SVM Matrix');\n",
    "ax2.set_xlabel('Predicted Values')\n",
    "ax2.set_ylabel('Actual Values ');\n",
    "ax2.xaxis.set_ticklabels(['False','True'])\n",
    "ax2.yaxis.set_ticklabels(['False','True'])\n",
    "plt.show()"
   ]
  },
  {
   "cell_type": "code",
   "execution_count": 15,
   "id": "c94d8cd8",
   "metadata": {},
   "outputs": [
    {
     "data": {
      "image/png": "[encoded data removed]",
      "text/plain": [
       "<Figure size 432x288 with 2 Axes>"
      ]
     },
     "metadata": {
      "needs_background": "light"
     },
     "output_type": "display_data"
    }
   ],
   "source": [
    "cf3=confusion_matrix(y_test, y_pred3)\n",
    "#plot_confusion_matrix(rfcmodel, X_test, y_test)  \n",
    "ax3 = sns.heatmap(cf3, annot=True, cmap='Blues')\n",
    "ax3.set_title('RFC Matrix');\n",
    "ax3.set_xlabel('Predicted Values')\n",
    "ax3.set_ylabel('Actual Values ');\n",
    "ax3.xaxis.set_ticklabels(['False','True'])\n",
    "ax3.yaxis.set_ticklabels(['False','True'])\n",
    "plt.show()"
   ]
  },
  {
   "cell_type": "code",
   "execution_count": 16,
   "id": "a11ffc0e",
   "metadata": {},
   "outputs": [
    {
     "name": "stdout",
     "output_type": "stream",
     "text": [
      "The Gaussian NB model is the weakest and should be scrapped. Now to find the best parameters for SVM and RandomForestClassifier.  The performance metrics for both are quite good but let us see if we can improve it more\n"
     ]
    }
   ],
   "source": [
    "print('The Gaussian NB model is the weakest and should be scrapped. Now to find the best parameters for SVM and RandomForestClassifier.  The performance metrics for both are quite good but let us see if we can improve it more')"
   ]
  },
  {
   "cell_type": "code",
   "execution_count": 17,
   "id": "422af8c5",
   "metadata": {},
   "outputs": [],
   "source": [
    "skf=StratifiedKFold(n_splits=5, shuffle=True, random_state=23784559)\n",
    "X_train00 = preprocessing.scale(X_train0)"
   ]
  },
  {
   "cell_type": "code",
   "execution_count": 18,
   "id": "59f2fcdc",
   "metadata": {},
   "outputs": [],
   "source": [
    "def collate_ht_results(ht_results,metric_keys=metric_keys,display=True):\n",
    "    ht_stats=dict()\n",
    "    for metric in metric_keys:\n",
    "        ht_stats[metric+\"_mean\"] = ht_results.cv_results_[\"mean_test_\"+metric][ht_results.best_index_]\n",
    "        ht_stats[metric+\"_std\"] = metric_std = ht_results.cv_results_[\"std_test_\"+metric][ht_results.best_index_]\n",
    "        if display:\n",
    "            print(\"test_\"+metric,ht_stats[metric+\"_mean\"],\"(\"+str(ht_stats[metric+\"_std\"])+\")\")\n",
    "    return ht_stats"
   ]
  },
  {
   "cell_type": "code",
   "execution_count": 19,
   "id": "a4c9ac5b",
   "metadata": {},
   "outputs": [
    {
     "name": "stdout",
     "output_type": "stream",
     "text": [
      "Fitting 5 folds for each of 168 candidates, totalling 840 fits\n",
      "Best parameters:  {'C': 1, 'gamma': 'auto', 'kernel': 'poly', 'random_state': 23784559}\n",
      "Best score:  1.0\n"
     ]
    }
   ],
   "source": [
    "parameters = {'C': [1,5,10,15,20,25,30,35,40,45,50,55,60,65,70,75,80,85,90,95,100], 'gamma': ['auto','scale'],'kernel': ['linear','poly','rbf','sigmoid'],'random_state':[23784559]} \n",
    "svmmodel1 = svm.SVC()\n",
    "start1 = timeit.default_timer()\n",
    "svmgrid = GridSearchCV(svmmodel1, parameters,scoring=p1_metrics_scorer, n_jobs=-1, refit=\"auc\", cv=skf, verbose=3,return_train_score=False)\n",
    "stop1 = timeit.default_timer()\n",
    "start11 = timeit.default_timer()\n",
    "svmgrid.fit(X_train00, y_train0)\n",
    "stop11 = timeit.default_timer()\n",
    "print('Best parameters: ',svmgrid.best_params_)\n",
    "print('Best score: ',svmgrid.best_score_)\n",
    "start12 = timeit.default_timer()\n",
    "svmgridpred = svmgrid.predict(X_test1)\n",
    "stop12 = timeit.default_timer()"
   ]
  },
  {
   "cell_type": "code",
   "execution_count": 20,
   "id": "a4fa0617",
   "metadata": {},
   "outputs": [
    {
     "name": "stdout",
     "output_type": "stream",
     "text": [
      "Grid Search: \n",
      "              precision    recall  f1-score   support\n",
      "\n",
      "           0       1.00      1.00      1.00       783\n",
      "           1       1.00      1.00      1.00       842\n",
      "\n",
      "    accuracy                           1.00      1625\n",
      "   macro avg       1.00      1.00      1.00      1625\n",
      "weighted avg       1.00      1.00      1.00      1625\n",
      "\n",
      "Time to find best parameters in seconds:  7.770000000029142e-05\n",
      "Time to fit in seconds:  674.5146573\n",
      "Time to test in seconds:  0.02429830000005495\n",
      "test_auc 1.0 (0.0)\n",
      "test_f1 1.0 (0.0)\n",
      "test_accuracy 1.0 (0.0)\n",
      "test_sensitivity 1.0 (0.0)\n",
      "test_specificity 1.0 (0.0)\n",
      "test_precision 1.0 (0.0)\n"
     ]
    },
    {
     "data": {
      "text/plain": [
       "{'auc_mean': 1.0,\n",
       " 'auc_std': 0.0,\n",
       " 'f1_mean': 1.0,\n",
       " 'f1_std': 0.0,\n",
       " 'accuracy_mean': 1.0,\n",
       " 'accuracy_std': 0.0,\n",
       " 'sensitivity_mean': 1.0,\n",
       " 'sensitivity_std': 0.0,\n",
       " 'specificity_mean': 1.0,\n",
       " 'specificity_std': 0.0,\n",
       " 'precision_mean': 1.0,\n",
       " 'precision_std': 0.0}"
      ]
     },
     "execution_count": 20,
     "metadata": {},
     "output_type": "execute_result"
    }
   ],
   "source": [
    "print(\"Grid Search: \")\n",
    "print(classification_report(y_test, svmgridpred))\n",
    "print('Time to find best parameters in seconds: ',stop1-start1)  \n",
    "print('Time to fit in seconds: ',stop11-start11)\n",
    "print('Time to test in seconds: ',stop12-start12)\n",
    "collate_ht_results(svmgrid,metric_keys=metric_keys,display=True)"
   ]
  },
  {
   "cell_type": "code",
   "execution_count": 21,
   "id": "62346c05",
   "metadata": {},
   "outputs": [
    {
     "name": "stdout",
     "output_type": "stream",
     "text": [
      "Fitting 5 folds for each of 168 candidates, totalling 840 fits\n",
      "Best parameters:  {'random_state': 23784559, 'kernel': 'poly', 'gamma': 'auto', 'C': 1}\n",
      "Best score:  1.0\n"
     ]
    }
   ],
   "source": [
    "svmmodel2=svm.SVC()\n",
    "parametersr = {'C':  [1,5,10,15,20,25,30,35,40,45,50,55,60,65,70,75,80,85,90,95,100], 'gamma': ['auto','scale'],'kernel': ['linear','poly','rbf','sigmoid'],'random_state':[23784559]} \n",
    "start2 = timeit.default_timer()\n",
    "svmgridr = RandomizedSearchCV(svmmodel2, parametersr,n_iter=168,scoring=p1_metrics_scorer,n_jobs=-1, refit=\"auc\", cv=skf, verbose=3,return_train_score=False)\n",
    "stop2 = timeit.default_timer()\n",
    "start21 = timeit.default_timer()\n",
    "svmgridr.fit(X_train00, y_train0)\n",
    "stop21 = timeit.default_timer()\n",
    "print('Best parameters: ',svmgridr.best_params_)\n",
    "print('Best score: ',svmgridr.best_score_)\n",
    "start22 = timeit.default_timer()\n",
    "svmgridpredr = svmgridr.predict(X_test1)\n",
    "stop22 = timeit.default_timer()"
   ]
  },
  {
   "cell_type": "code",
   "execution_count": 22,
   "id": "36909237",
   "metadata": {},
   "outputs": [
    {
     "name": "stdout",
     "output_type": "stream",
     "text": [
      "\n",
      "Randomized Search:\n",
      "              precision    recall  f1-score   support\n",
      "\n",
      "           0       1.00      1.00      1.00       783\n",
      "           1       1.00      1.00      1.00       842\n",
      "\n",
      "    accuracy                           1.00      1625\n",
      "   macro avg       1.00      1.00      1.00      1625\n",
      "weighted avg       1.00      1.00      1.00      1625\n",
      "\n",
      "Time to find best parameters in seconds:  8.079999997789855e-05\n",
      "Time to fit in seconds:  673.9979030999999\n",
      "Time to test in seconds:  0.02282029999992119\n",
      "test_auc 1.0 (0.0)\n",
      "test_f1 1.0 (0.0)\n",
      "test_accuracy 1.0 (0.0)\n",
      "test_sensitivity 1.0 (0.0)\n",
      "test_specificity 1.0 (0.0)\n",
      "test_precision 1.0 (0.0)\n"
     ]
    },
    {
     "data": {
      "text/plain": [
       "{'auc_mean': 1.0,\n",
       " 'auc_std': 0.0,\n",
       " 'f1_mean': 1.0,\n",
       " 'f1_std': 0.0,\n",
       " 'accuracy_mean': 1.0,\n",
       " 'accuracy_std': 0.0,\n",
       " 'sensitivity_mean': 1.0,\n",
       " 'sensitivity_std': 0.0,\n",
       " 'specificity_mean': 1.0,\n",
       " 'specificity_std': 0.0,\n",
       " 'precision_mean': 1.0,\n",
       " 'precision_std': 0.0}"
      ]
     },
     "execution_count": 22,
     "metadata": {},
     "output_type": "execute_result"
    }
   ],
   "source": [
    "print(\"\")\n",
    "print(\"Randomized Search:\")\n",
    "print(classification_report(y_test, svmgridpredr))\n",
    "print('Time to find best parameters in seconds: ', stop2-start2) \n",
    "print('Time to fit in seconds: ',stop21-start21)\n",
    "print('Time to test in seconds: ',stop22-start22)\n",
    "collate_ht_results(svmgridr,metric_keys=metric_keys,display=True)"
   ]
  },
  {
   "cell_type": "code",
   "execution_count": 23,
   "id": "c2edb07b",
   "metadata": {},
   "outputs": [
    {
     "name": "stdout",
     "output_type": "stream",
     "text": [
      "Fitting 5 folds for each of 2376 candidates, totalling 11880 fits\n",
      "Best parameters:  {'warm_start': False, 'random_state': 23784559, 'n_estimators': 10, 'max_features': 'sqrt', 'max_depth': None, 'criterion': 'gini', 'class_weight': 'balanced', 'bootstrap': False}\n",
      "Best score:  1.0\n"
     ]
    }
   ],
   "source": [
    "from math import log2\n",
    "from math import ceil\n",
    "numberofrows=len(Mushroom_data.axes[0])\n",
    "rfcmodel1 = RandomForestClassifier()\n",
    "parametersr1 = {'random_state':[23784559],'n_estimators':  [10,20,30,40,50,60,70,80,90,100,1000], 'criterion': ['gini','entropy','log_loss'],'max_depth': [None,ceil(log2(numberofrows)-1)],'max_features':['sqrt','log2', None],'bootstrap':[False,True],'warm_start':[False,True],'class_weight':['balanced','balanced_subsample',None]} \n",
    "start3 = timeit.default_timer()\n",
    "svmrandr1 = RandomizedSearchCV(rfcmodel1, parametersr1,n_iter=2376, scoring=p1_metrics_scorer, n_jobs=-1, refit=\"auc\", cv=skf, verbose=3,return_train_score=False)\n",
    "stop3 = timeit.default_timer()\n",
    "start31 = timeit.default_timer()\n",
    "svmrandr1.fit(X_train0, y_train0)\n",
    "stop31 = timeit.default_timer()\n",
    "print('Best parameters: ',svmrandr1.best_params_)\n",
    "print('Best score: ',svmrandr1.best_score_)\n",
    "start32 = timeit.default_timer()\n",
    "svmrandpredr1 = svmrandr1.predict(X_test)\n",
    "stop32 = timeit.default_timer()"
   ]
  },
  {
   "cell_type": "code",
   "execution_count": 24,
   "id": "4c7d2188",
   "metadata": {},
   "outputs": [
    {
     "name": "stdout",
     "output_type": "stream",
     "text": [
      "\n",
      "Randomized Search:\n",
      "              precision    recall  f1-score   support\n",
      "\n",
      "           0       1.00      1.00      1.00       783\n",
      "           1       1.00      1.00      1.00       842\n",
      "\n",
      "    accuracy                           1.00      1625\n",
      "   macro avg       1.00      1.00      1.00      1625\n",
      "weighted avg       1.00      1.00      1.00      1625\n",
      "\n",
      "Time to find best parameters in seconds:  8.189999994101527e-05\n",
      "Time to fit in seconds:  1124.0464863\n",
      "Time to test in seconds:  0.0053336000000854256\n",
      "test_auc 1.0 (0.0)\n",
      "test_f1 1.0 (0.0)\n",
      "test_accuracy 1.0 (0.0)\n",
      "test_sensitivity 1.0 (0.0)\n",
      "test_specificity 1.0 (0.0)\n",
      "test_precision 1.0 (0.0)\n"
     ]
    },
    {
     "data": {
      "text/plain": [
       "{'auc_mean': 1.0,\n",
       " 'auc_std': 0.0,\n",
       " 'f1_mean': 1.0,\n",
       " 'f1_std': 0.0,\n",
       " 'accuracy_mean': 1.0,\n",
       " 'accuracy_std': 0.0,\n",
       " 'sensitivity_mean': 1.0,\n",
       " 'sensitivity_std': 0.0,\n",
       " 'specificity_mean': 1.0,\n",
       " 'specificity_std': 0.0,\n",
       " 'precision_mean': 1.0,\n",
       " 'precision_std': 0.0}"
      ]
     },
     "execution_count": 24,
     "metadata": {},
     "output_type": "execute_result"
    }
   ],
   "source": [
    "print(\"\")\n",
    "print(\"Randomized Search:\")\n",
    "print(classification_report(y_test, svmrandpredr1))\n",
    "print('Time to find best parameters in seconds: ', stop3-start3) \n",
    "print('Time to fit in seconds: ',stop31-start31)\n",
    "print('Time to test in seconds: ',stop32-start32)\n",
    "collate_ht_results(svmrandr1,metric_keys=metric_keys,display=True)"
   ]
  },
  {
   "cell_type": "code",
   "execution_count": 25,
   "id": "f6cca7b6",
   "metadata": {},
   "outputs": [
    {
     "name": "stdout",
     "output_type": "stream",
     "text": [
      "Fitting 5 folds for each of 2376 candidates, totalling 11880 fits\n",
      "Best parameters:  {'bootstrap': False, 'class_weight': 'balanced', 'criterion': 'gini', 'max_depth': None, 'max_features': 'sqrt', 'n_estimators': 10, 'random_state': 23784559, 'warm_start': False}\n",
      "Best score:  1.0\n"
     ]
    }
   ],
   "source": [
    "from math import log2\n",
    "from math import ceil\n",
    "numberofrows=len(Mushroom_data.axes[0])\n",
    "rfcmodel2 = RandomForestClassifier()\n",
    "parametersr1 = {'random_state':[23784559],'n_estimators':  [10,20,30,40,50,60,70,80,90,100,1000], 'criterion': ['gini','entropy','log_loss'],'max_depth': [None,ceil(log2(numberofrows)-1)],'max_features':['sqrt','log2', None],'bootstrap':[False,True],'warm_start':[False,True],'class_weight':['balanced','balanced_subsample',None]} \n",
    "start4 = timeit.default_timer()\n",
    "svmgridr1 = GridSearchCV(rfcmodel2, parametersr1,scoring=p1_metrics_scorer, n_jobs=-1, refit=\"auc\", cv=skf, verbose=3,return_train_score=False)\n",
    "stop4 = timeit.default_timer()\n",
    "start41 = timeit.default_timer()\n",
    "svmgridr1.fit(X_train0, y_train0)\n",
    "stop41 = timeit.default_timer()\n",
    "print('Best parameters: ',svmgridr1.best_params_)\n",
    "print('Best score: ',svmgridr1.best_score_)\n",
    "start42 = timeit.default_timer()\n",
    "svmgridpredr1 = svmgridr1.predict(X_test)\n",
    "stop42 = timeit.default_timer()"
   ]
  },
  {
   "cell_type": "code",
   "execution_count": 26,
   "id": "76d7a0f0",
   "metadata": {},
   "outputs": [
    {
     "name": "stdout",
     "output_type": "stream",
     "text": [
      "\n",
      "Grid Search:\n",
      "              precision    recall  f1-score   support\n",
      "\n",
      "           0       1.00      1.00      1.00       783\n",
      "           1       1.00      1.00      1.00       842\n",
      "\n",
      "    accuracy                           1.00      1625\n",
      "   macro avg       1.00      1.00      1.00      1625\n",
      "weighted avg       1.00      1.00      1.00      1625\n",
      "\n",
      "Time to find best parameters in seconds:  0.00010979999979099375\n",
      "Time to fit in seconds:  1122.7990867999997\n",
      "Time to test in seconds:  0.00495439999986047\n",
      "test_auc 1.0 (0.0)\n",
      "test_f1 1.0 (0.0)\n",
      "test_accuracy 1.0 (0.0)\n",
      "test_sensitivity 1.0 (0.0)\n",
      "test_specificity 1.0 (0.0)\n",
      "test_precision 1.0 (0.0)\n"
     ]
    },
    {
     "data": {
      "text/plain": [
       "{'auc_mean': 1.0,\n",
       " 'auc_std': 0.0,\n",
       " 'f1_mean': 1.0,\n",
       " 'f1_std': 0.0,\n",
       " 'accuracy_mean': 1.0,\n",
       " 'accuracy_std': 0.0,\n",
       " 'sensitivity_mean': 1.0,\n",
       " 'sensitivity_std': 0.0,\n",
       " 'specificity_mean': 1.0,\n",
       " 'specificity_std': 0.0,\n",
       " 'precision_mean': 1.0,\n",
       " 'precision_std': 0.0}"
      ]
     },
     "execution_count": 26,
     "metadata": {},
     "output_type": "execute_result"
    }
   ],
   "source": [
    "print(\"\")\n",
    "print(\"Grid Search:\")\n",
    "print(classification_report(y_test, svmgridpredr1))\n",
    "print('Time to find best parameters in seconds: ', stop4-start4) \n",
    "print('Time to fit in seconds: ',stop41-start41)\n",
    "print('Time to test in seconds: ',stop42-start42)\n",
    "collate_ht_results(svmgridr1,metric_keys=metric_keys,display=True)"
   ]
  },
  {
   "cell_type": "code",
   "execution_count": 27,
   "id": "e2fd63a4",
   "metadata": {},
   "outputs": [
    {
     "name": "stdout",
     "output_type": "stream",
     "text": [
      "SVM and Random Forest Models have extremely high accuracy with the derived parameters.\n"
     ]
    }
   ],
   "source": [
    "print('SVM and Random Forest Models have extremely high accuracy with the derived parameters.')"
   ]
  },
  {
   "cell_type": "code",
   "execution_count": 28,
   "id": "ea805eb4",
   "metadata": {},
   "outputs": [
    {
     "name": "stdout",
     "output_type": "stream",
     "text": [
      "Requirement already satisfied: shap in c:\\users\\iahaq\\appdata\\roaming\\python\\python38\\site-packages (0.41.0)\n",
      "Requirement already satisfied: tqdm>4.25.0 in c:\\programdata\\anaconda3\\lib\\site-packages (from shap) (4.59.0)\n",
      "Requirement already satisfied: scipy in c:\\programdata\\anaconda3\\lib\\site-packages (from shap) (1.6.2)\n",
      "Requirement already satisfied: pandas in c:\\programdata\\anaconda3\\lib\\site-packages (from shap) (1.2.4)\n",
      "Requirement already satisfied: packaging>20.9 in c:\\users\\iahaq\\appdata\\roaming\\python\\python38\\site-packages (from shap) (21.3)\n",
      "Requirement already satisfied: slicer==0.0.7 in c:\\users\\iahaq\\appdata\\roaming\\python\\python38\\site-packages (from shap) (0.0.7)\n",
      "Requirement already satisfied: cloudpickle in c:\\programdata\\anaconda3\\lib\\site-packages (from shap) (1.6.0)\n",
      "Requirement already satisfied: numba in c:\\programdata\\anaconda3\\lib\\site-packages (from shap) (0.53.1)\n",
      "Requirement already satisfied: numpy in c:\\programdata\\anaconda3\\lib\\site-packages (from shap) (1.20.1)\n",
      "Requirement already satisfied: scikit-learn in c:\\programdata\\anaconda3\\lib\\site-packages (from shap) (1.2.0)\n",
      "Requirement already satisfied: pyparsing!=3.0.5,>=2.0.2 in c:\\programdata\\anaconda3\\lib\\site-packages (from packaging>20.9->shap) (2.4.7)\n",
      "Requirement already satisfied: llvmlite<0.37,>=0.36.0rc1 in c:\\programdata\\anaconda3\\lib\\site-packages (from numba->shap) (0.36.0)\n",
      "Requirement already satisfied: setuptools in c:\\programdata\\anaconda3\\lib\\site-packages (from numba->shap) (52.0.0.post20210125)\n",
      "Requirement already satisfied: pytz>=2017.3 in c:\\programdata\\anaconda3\\lib\\site-packages (from pandas->shap) (2021.1)\n",
      "Requirement already satisfied: python-dateutil>=2.7.3 in c:\\programdata\\anaconda3\\lib\\site-packages (from pandas->shap) (2.8.1)\n",
      "Requirement already satisfied: six>=1.5 in c:\\programdata\\anaconda3\\lib\\site-packages (from python-dateutil>=2.7.3->pandas->shap) (1.15.0)\n",
      "Requirement already satisfied: joblib>=1.1.1 in c:\\programdata\\anaconda3\\lib\\site-packages (from scikit-learn->shap) (1.2.0)\n",
      "Requirement already satisfied: threadpoolctl>=2.0.0 in c:\\programdata\\anaconda3\\lib\\site-packages (from scikit-learn->shap) (2.1.0)\n"
     ]
    }
   ],
   "source": [
    "from sklearn.ensemble import RandomForestRegressor\n",
    "from sklearn.inspection import permutation_importance\n",
    "from matplotlib import pyplot as plt\n",
    "!pip install --user shap\n",
    "import shap"
   ]
  },
  {
   "cell_type": "code",
   "execution_count": 29,
   "id": "bf3b62bd",
   "metadata": {},
   "outputs": [],
   "source": [
    "train2, feat = next(shuffle3.split(X=X_train, y=y_train))\n",
    "X_train2 = X.loc[train2]\n",
    "y_train2 = y.loc[train2]\n",
    "X_feat = X.loc[feat]\n",
    "y_feat = y.loc[feat]\n",
    "X_train21 = preprocessing.scale(X_train2)\n",
    "y_train21 = y_train2\n",
    "X_feat1 = preprocessing.scale(X_feat)\n",
    "y_feat1 = y_feat\n",
    "plt.rcParams.update({'figure.figsize': (15.0, 15.0)})\n",
    "plt.rcParams.update({'font.size': 10})\n",
    "rfcmodel3 = RandomForestClassifier(random_state=23784559)\n",
    "rfcmodel3.fit(X_feat, y_feat)\n",
    "importantfeatures=rfcmodel3.feature_importances_"
   ]
  },
  {
   "cell_type": "code",
   "execution_count": 30,
   "id": "a4394b25",
   "metadata": {},
   "outputs": [
    {
     "data": {
      "text/plain": [
       "array([0.01345285, 0.01920291, 0.01959834, 0.18503342, 0.        ,\n",
       "       0.02426159, 0.12548725, 0.08175762, 0.05641601, 0.09925087,\n",
       "       0.08484396, 0.22117254, 0.04208318, 0.02743947])"
      ]
     },
     "execution_count": 30,
     "metadata": {},
     "output_type": "execute_result"
    }
   ],
   "source": [
    "rfcmodel3.feature_importances_"
   ]
  },
  {
   "cell_type": "code",
   "execution_count": 31,
   "id": "4bfa0eda",
   "metadata": {},
   "outputs": [
    {
     "data": {
      "text/plain": [
       "<BarContainer object of 14 artists>"
      ]
     },
     "execution_count": 31,
     "metadata": {},
     "output_type": "execute_result"
    },
    {
     "data": {
      "image/png": "[encoded data removed]",
      "text/plain": [
       "<Figure size 1080x1080 with 1 Axes>"
      ]
     },
     "metadata": {
      "needs_background": "light"
     },
     "output_type": "display_data"
    }
   ],
   "source": [
    "plt.barh(calledcol2, rfcmodel3.feature_importances_)\n"
   ]
  },
  {
   "cell_type": "code",
   "execution_count": 32,
   "id": "4f3db9c3",
   "metadata": {},
   "outputs": [
    {
     "name": "stdout",
     "output_type": "stream",
     "text": [
      "Gill attachment should be removed as it has no importance. Odor and spore print color are the most important features, but the importances of other features other than gill attachment are strong enough not to be removed.\n"
     ]
    }
   ],
   "source": [
    "print('Gill attachment should be removed as it has no importance. Odor and spore print color are the most important features, but the importances of other features other than gill attachment are strong enough not to be removed.')"
   ]
  },
  {
   "cell_type": "code",
   "execution_count": 33,
   "id": "b1465a86",
   "metadata": {},
   "outputs": [],
   "source": [
    "calledcol3=calledcol2\n",
    "calledcol3.remove('gill-attachment')\n",
    "X_test = X_test[calledcol3]\n",
    "X_train = X_train[calledcol3]\n",
    "X_train0=X_train0[calledcol3]\n",
    "X_val = X_val[calledcol3]\n",
    "X_train1 = preprocessing.scale(X_train)\n",
    "X_test1 = preprocessing.scale(X_test)\n",
    "X_val1 = preprocessing.scale(X_val)\n",
    "X_train00=preprocessing.scale(X_train0)"
   ]
  },
  {
   "cell_type": "code",
   "execution_count": 34,
   "id": "5e72e67f",
   "metadata": {},
   "outputs": [
    {
     "name": "stdout",
     "output_type": "stream",
     "text": [
      "Here are the final SVM and Random Forest\n"
     ]
    }
   ],
   "source": [
    "print(\"Here are the final SVM and Random Forest\")"
   ]
  },
  {
   "cell_type": "code",
   "execution_count": 35,
   "id": "511fee0a",
   "metadata": {},
   "outputs": [
    {
     "data": {
      "text/plain": [
       "{'auc': 1.0,\n",
       " 'f1': 1.0,\n",
       " 'accuracy': 1.0,\n",
       " 'sensitivity': 1.0,\n",
       " 'specificity': 1.0,\n",
       " 'precision': 1.0,\n",
       " 'confusion_matrix': array([[783,   0],\n",
       "        [  0, 842]], dtype=int64)}"
      ]
     },
     "execution_count": 35,
     "metadata": {},
     "output_type": "execute_result"
    }
   ],
   "source": [
    "svm_final = svm.SVC(random_state=23784559,kernel='poly',gamma='auto',C=5) \n",
    "svm_final.fit(X_train00, y_train0)\n",
    "y_predfinalsvm = svm_final.predict(X_test1)\n",
    "p1_metrics(y_test,y_predfinalsvm,include_cm=True)"
   ]
  },
  {
   "cell_type": "code",
   "execution_count": 36,
   "id": "ea605ac6",
   "metadata": {},
   "outputs": [
    {
     "data": {
      "image/png": "[encoded data removed]",
      "text/plain": [
       "<Figure size 1080x1080 with 2 Axes>"
      ]
     },
     "metadata": {
      "needs_background": "light"
     },
     "output_type": "display_data"
    }
   ],
   "source": [
    "cfsvm=confusion_matrix(y_test, y_predfinalsvm)\n",
    "#plot_confusion_matrix(svm_final, X_test1, y_test)  \n",
    "axsvm = sns.heatmap(cfsvm, annot=True, cmap='Blues')\n",
    "axsvm.set_title('FINAL SVM');\n",
    "axsvm.set_xlabel('Predicted Values')\n",
    "axsvm.set_ylabel('Actual Values ');\n",
    "axsvm.xaxis.set_ticklabels(['False','True'])\n",
    "axsvm.yaxis.set_ticklabels(['False','True'])\n",
    "plt.show()"
   ]
  },
  {
   "cell_type": "code",
   "execution_count": 37,
   "id": "3a9870b6",
   "metadata": {},
   "outputs": [
    {
     "data": {
      "text/plain": [
       "{'auc': 1.0,\n",
       " 'f1': 1.0,\n",
       " 'accuracy': 1.0,\n",
       " 'sensitivity': 1.0,\n",
       " 'specificity': 1.0,\n",
       " 'precision': 1.0,\n",
       " 'confusion_matrix': array([[783,   0],\n",
       "        [  0, 842]], dtype=int64)}"
      ]
     },
     "execution_count": 37,
     "metadata": {},
     "output_type": "execute_result"
    }
   ],
   "source": [
    "rf_final = RandomForestClassifier(bootstrap=False, class_weight='balanced',criterion='gini',max_depth=None,max_features='sqrt',n_estimators=10,random_state=23784559,warm_start=False)\n",
    "rf_final.fit(X_train0, y_train0)\n",
    "y_predfinalrfc = rf_final.predict(X_test)\n",
    "p1_metrics(y_test,y_predfinalrfc,include_cm=True)"
   ]
  },
  {
   "cell_type": "code",
   "execution_count": 38,
   "id": "e4c77420",
   "metadata": {},
   "outputs": [
    {
     "data": {
      "image/png": "[encoded data removed]",
      "text/plain": [
       "<Figure size 1080x1080 with 2 Axes>"
      ]
     },
     "metadata": {
      "needs_background": "light"
     },
     "output_type": "display_data"
    }
   ],
   "source": [
    "cfrfc=confusion_matrix(y_test, y_predfinalrfc)\n",
    "#plot_confusion_matrix(rf_final, X_test, y_test)  \n",
    "axrfc = sns.heatmap(cfrfc, annot=True, cmap='Blues')\n",
    "axrfc.set_title('FINAL RFC');\n",
    "axrfc.set_xlabel('Predicted Values')\n",
    "axrfc.set_ylabel('Actual Values ');\n",
    "axrfc.xaxis.set_ticklabels(['False','True'])\n",
    "axrfc.yaxis.set_ticklabels(['False','True'])\n",
    "plt.show()"
   ]
  },
  {
   "cell_type": "code",
   "execution_count": 39,
   "id": "ad8b1d4e",
   "metadata": {},
   "outputs": [
    {
     "name": "stdout",
     "output_type": "stream",
     "text": [
      "SVM Final\n",
      "fit_time 0.07840023040771485 (0.002244438296134978)\n",
      "score_time 0.030594682693481444 (0.01524453286606687)\n",
      "test_roc_auc 1.0 (0.0)\n",
      "test_f1 1.0 (0.0)\n",
      "test_accuracy 1.0 (0.0)\n",
      "test_precision 1.0 (0.0)\n",
      "RFC Final\n",
      "fit_time 0.026209402084350585 (0.0009806991648679464)\n",
      "score_time 0.010393857955932617 (0.0007875496262920973)\n",
      "test_roc_auc 1.0 (0.0)\n",
      "test_f1 1.0 (0.0)\n",
      "test_accuracy 1.0 (0.0)\n",
      "test_precision 1.0 (0.0)\n"
     ]
    }
   ],
   "source": [
    "from sklearn.model_selection import cross_validate\n",
    "metric_keys2 = ['roc_auc','f1','accuracy','precision']\n",
    "def collate_cv_results(cv_results,display=True):\n",
    "    cv_stats=dict()\n",
    "    for k in cv_results:\n",
    "        cv_stats[k+\"_mean\"]=np.mean(cv_results[k])\n",
    "        cv_stats[k+\"_std\"]=np.std(cv_results[k])\n",
    "        if display:\n",
    "            print(k,cv_stats[k+\"_mean\"],\"(\"+str(cv_stats[k+\"_std\"])+\")\")\n",
    "    return cv_stats\n",
    "cv_resultssvm = cross_validate(svm_final, X_train00, y_train0, cv=skf, scoring=metric_keys2)\n",
    "print(\"SVM Final\")\n",
    "storedsvm=collate_cv_results(cv_resultssvm,display=True)\n",
    "cv_resultsrfc = cross_validate(rf_final, X_train0, y_train0, cv=skf, scoring=metric_keys2)\n",
    "print(\"RFC Final\")\n",
    "storedrfc=collate_cv_results(cv_resultsrfc,display=True)"
   ]
  },
  {
   "cell_type": "code",
   "execution_count": 40,
   "id": "4dd9edd8",
   "metadata": {},
   "outputs": [],
   "source": [
    "def collate_cv_results2(cv_results,dict1,dict2,display=True):\n",
    "    for k in cv_results:\n",
    "        dict1[k]=np.mean(cv_results[k])\n",
    "        dict2[k]=np.std(cv_results[k])\n",
    "svmdictmean={}\n",
    "svmdictstd={}\n",
    "rfcdictmean={}\n",
    "rfcdictstd={}\n",
    "collate_cv_results2(cv_resultssvm,svmdictmean,svmdictstd,display=True)\n",
    "collate_cv_results2(cv_resultsrfc,rfcdictmean,rfcdictstd,display=True)"
   ]
  },
  {
   "cell_type": "code",
   "execution_count": 41,
   "id": "e16c8c78",
   "metadata": {},
   "outputs": [],
   "source": [
    "storedcv = pd.DataFrame(svmdictmean.items(), columns=['Metrics','svm_mean'])\n",
    "storedcv['svm_std'] =  storedcv['Metrics'].map(svmdictstd)\n",
    "storedcv['rfc_mean'] =  storedcv['Metrics'].map(rfcdictmean)\n",
    "storedcv['rfc_std'] =  storedcv['Metrics'].map(rfcdictstd)"
   ]
  },
  {
   "cell_type": "code",
   "execution_count": 42,
   "id": "1640e6ba",
   "metadata": {},
   "outputs": [
    {
     "data": {
      "image/png": "[encoded data removed]",
      "text/plain": [
       "<Figure size 1080x1080 with 1 Axes>"
      ]
     },
     "metadata": {
      "needs_background": "light"
     },
     "output_type": "display_data"
    }
   ],
   "source": [
    "si = pd.DataFrame(storedcv,columns=['Metrics','svm_mean','rfc_mean'])\n",
    "si.plot(x ='Metrics', y=['svm_mean','rfc_mean'], kind = 'bar')\n",
    "plt.show()"
   ]
  },
  {
   "cell_type": "code",
   "execution_count": 43,
   "id": "cf21a64d",
   "metadata": {},
   "outputs": [
    {
     "name": "stdout",
     "output_type": "stream",
     "text": [
      "All metrics outside time are 1.0 (100%) correct \n"
     ]
    }
   ],
   "source": [
    "print('All metrics outside time are 1.0 (100%) correct ')"
   ]
  },
  {
   "cell_type": "code",
   "execution_count": 44,
   "id": "8c815541",
   "metadata": {},
   "outputs": [
    {
     "name": "stdout",
     "output_type": "stream",
     "text": [
      "Requirement already satisfied: scikit-learn in c:\\programdata\\anaconda3\\lib\\site-packages (1.2.0)\n",
      "Requirement already satisfied: scipy>=1.3.2 in c:\\programdata\\anaconda3\\lib\\site-packages (from scikit-learn) (1.6.2)\n",
      "Requirement already satisfied: numpy>=1.17.3 in c:\\programdata\\anaconda3\\lib\\site-packages (from scikit-learn) (1.20.1)\n",
      "Requirement already satisfied: joblib>=1.1.1 in c:\\programdata\\anaconda3\\lib\\site-packages (from scikit-learn) (1.2.0)\n",
      "Requirement already satisfied: threadpoolctl>=2.0.0 in c:\\programdata\\anaconda3\\lib\\site-packages (from scikit-learn) (2.1.0)\n"
     ]
    },
    {
     "data": {
      "text/plain": [
       "<matplotlib.legend.Legend at 0x297690458e0>"
      ]
     },
     "execution_count": 44,
     "metadata": {},
     "output_type": "execute_result"
    },
    {
     "data": {
      "image/png": "[encoded data removed]",
      "text/plain": [
       "<Figure size 1080x1080 with 1 Axes>"
      ]
     },
     "metadata": {
      "needs_background": "light"
     },
     "output_type": "display_data"
    }
   ],
   "source": [
    "from sklearn import metrics\n",
    "from sklearn.metrics import RocCurveDisplay\n",
    "!pip install --upgrade --user scikit-learn\n",
    "plt.figure(0).clf()\n",
    "fp2, tp2,_= metrics.roc_curve(y_test, y_predfinalsvm)\n",
    "auc2=metrics.roc_auc_score(y_test, y_predfinalsvm)\n",
    "plt.plot(fp2,tp2,label=\"Final SVM and AUC is \"+str(auc2))\n",
    "fp3, tp3,_= metrics.roc_curve(y_test,y_predfinalrfc)\n",
    "auc3=metrics.roc_auc_score(y_test,y_predfinalrfc)\n",
    "plt.plot(fp3,tp3,label=\"Final RFC and AUC is \"+str(auc3))\n",
    "plt.legend()"
   ]
  },
  {
   "cell_type": "code",
   "execution_count": null,
   "id": "30dbd598",
   "metadata": {},
   "outputs": [],
   "source": []
  }
 ],
 "metadata": {
  "kernelspec": {
   "display_name": "Python 3",
   "language": "python",
   "name": "python3"
  },
  "language_info": {
   "codemirror_mode": {
    "name": "ipython",
    "version": 3
   },
   "file_extension": ".py",
   "mimetype": "text/x-python",
   "name": "python",
   "nbconvert_exporter": "python",
   "pygments_lexer": "ipython3",
   "version": "3.8.8"
  }
 },
 "nbformat": 4,
 "nbformat_minor": 5
}
